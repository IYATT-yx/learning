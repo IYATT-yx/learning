{
 "cells": [
  {
   "cell_type": "markdown",
   "id": "b826ae4a",
   "metadata": {},
   "source": [
    "file: 1-高等数学基础.ipynb  \n",
    "site: github.com/IYATT-yx/learning  \n",
    "\n",
    "Copyright (C) 2021 IYATT-yx (Zhao Hongfei, 赵洪飞)，2514374431@qq.com\n",
    "This program is free software: you can redistribute it and/or modify\n",
    "it under the terms of the GNU Affero General Public License as published\n",
    "by the Free Software Foundation, either version 3 of the License, or\n",
    "(at your option) any later version.\n",
    "This program is distributed in the hope that it will be useful,\n",
    "but WITHOUT ANY WARRANTY; without even the implied warranty of\n",
    "MERCHANTABILITY or FITNESS FOR A PARTICULAR PURPOSE.  See the\n",
    "GNU Affero General Public License for more details.\n",
    "You should have received a copy of the GNU Affero General Public License\n",
    "along with this program.  If not, see <https://www.gnu.org/licenses/>."
   ]
  },
  {
   "cell_type": "markdown",
   "id": "c0566dbc",
   "metadata": {},
   "source": [
    "## 环境准备"
   ]
  },
  {
   "cell_type": "code",
   "execution_count": 1,
   "id": "066a88a6",
   "metadata": {},
   "outputs": [
    {
     "name": "stdout",
     "output_type": "stream",
     "text": [
      "Defaulting to user installation because normal site-packages is not writeable\n",
      "Looking in indexes: https://mirrors.ustc.edu.cn/pypi/web/simple\n",
      "Requirement already satisfied: pip in /home/yx/.local/lib/python3.8/site-packages (21.3.1)\n"
     ]
    }
   ],
   "source": [
    "!pip3 install pip -U"
   ]
  },
  {
   "cell_type": "code",
   "execution_count": 2,
   "id": "769294b3",
   "metadata": {},
   "outputs": [],
   "source": [
    "try:\n",
    "    import sympy as sp\n",
    "except ModuleNotFoundError:\n",
    "    !pip3 install sympy\n",
    "    import sympy as sp"
   ]
  },
  {
   "cell_type": "code",
   "execution_count": 3,
   "id": "64facf7e",
   "metadata": {},
   "outputs": [],
   "source": [
    "try:\n",
    "    import numpy as np\n",
    "except ModuleNotFoundError:\n",
    "    !pip3 install numpy\n",
    "    import numpy as np"
   ]
  },
  {
   "cell_type": "code",
   "execution_count": 4,
   "id": "e2c4ae87",
   "metadata": {},
   "outputs": [],
   "source": [
    "try:\n",
    "    import matplotlib.pyplot as plt\n",
    "    from mpl_toolkits.mplot3d import Axes3D\n",
    "except ModuleNotFoundError:\n",
    "    !pip3 install matplotlib\n",
    "    import matplotlib.pyplot as plt\n",
    "    from mpl_toolkits.mplot3d import Axes3D"
   ]
  },
  {
   "cell_type": "markdown",
   "id": "0cbba3b9",
   "metadata": {},
   "source": [
    "## 希腊字母"
   ]
  },
  {
   "cell_type": "markdown",
   "id": "b0628f69",
   "metadata": {},
   "source": [
    "|字母名称|国际音标|大写字母|小写字母|字母名称|国际音标|大写字母|小写字母|\n",
    "|:------|:-----|:------|:------|:-----|:------|:-----|:------|\n",
    "|alpha|/'ælfə/|Α|α|nu|/nju:/|Ν|ν|\n",
    "|beta|/'bi:tə/ 或 /'beɪtə/|Β|β|xi|希腊 /ksi/；英美 /ˈzaɪ/ 或 /ˈksaɪ/|Ξ|ξ|\n",
    "|gamma|/'gæmə/|Γ|γ|omicron|/əuˈmaikrən/ 或 /ˈɑmɪˌkrɑn/|Ο|ο|\n",
    "|delta|/'deltə/|Δ|δ|pi|/paɪ/|Π|π|\n",
    "|epsilon|/'epsɪlɒn/|Ε|ε|rho|/rəʊ/|Ρ|ρ|\n",
    "|zeta|/'zi:tə/|Ζ|ζ|sigma|/'sɪɡmə/|Σ|σ， ς|\n",
    "|eta|/'i:tə/|Η|η|tau|/tɔ:/ 或 /taʊ/|Τ|τ|\n",
    "|theta|/'θi:tə/|Θ|θ|upsilon|/ˈipsilon/ 或 /ˈʌpsɨlɒn/|Υ|υ|\n",
    "|iota|/aɪ'əʊtə/|Ι|ι|phi|/faɪ/|Φ|φ|\n",
    "|kappa|/'kæpə/|Κ|κ|chi|/kaɪ/|Χ|χ|\n",
    "|lambda|/'læmdə/|Λ|λ|psi|/psaɪ/|Ψ|ψ|\n",
    "|mu|/mju:/|Μ|μ|omega|/'əʊmɪɡə/ 或 /oʊ'meɡə/|Ω|ω|"
   ]
  },
  {
   "cell_type": "markdown",
   "id": "7db32ae2",
   "metadata": {},
   "source": [
    "## 计算极限"
   ]
  },
  {
   "cell_type": "markdown",
   "id": "11c03759",
   "metadata": {},
   "source": [
    "$$\\lim_{x \\to 1} \\frac{x^2-1}{x-1} $$"
   ]
  },
  {
   "cell_type": "code",
   "execution_count": 5,
   "id": "d91cf93c",
   "metadata": {},
   "outputs": [
    {
     "data": {
      "text/latex": [
       "$\\displaystyle 2$"
      ],
      "text/plain": [
       "2"
      ]
     },
     "execution_count": 5,
     "metadata": {},
     "output_type": "execute_result"
    }
   ],
   "source": [
    "x = sp.Symbol('x')\n",
    "f = (x ** 2 - 1) / (x - 1)\n",
    "sp.limit(f, x, 1)"
   ]
  },
  {
   "cell_type": "markdown",
   "id": "7a42383c",
   "metadata": {},
   "source": [
    "$$\\lim_{x \\to +\\infty} \\frac{sinx}{x}$$"
   ]
  },
  {
   "cell_type": "code",
   "execution_count": 6,
   "id": "0f936af9",
   "metadata": {},
   "outputs": [
    {
     "data": {
      "text/latex": [
       "$\\displaystyle 0$"
      ],
      "text/plain": [
       "0"
      ]
     },
     "execution_count": 6,
     "metadata": {},
     "output_type": "execute_result"
    }
   ],
   "source": [
    "f = sp.sin(x) / x\n",
    "sp.limit(f, x, sp.oo)"
   ]
  },
  {
   "cell_type": "markdown",
   "id": "eb2f667b",
   "metadata": {},
   "source": [
    "$$\\lim_{x \\to 0} \\frac{sinx}{3x+x^3}$$"
   ]
  },
  {
   "cell_type": "code",
   "execution_count": 7,
   "id": "ea0dbae6",
   "metadata": {},
   "outputs": [
    {
     "data": {
      "text/latex": [
       "$\\displaystyle \\frac{1}{3}$"
      ],
      "text/plain": [
       "1/3"
      ]
     },
     "execution_count": 7,
     "metadata": {},
     "output_type": "execute_result"
    }
   ],
   "source": [
    "f = sp.sin(x) / (3 * x + x ** 3)\n",
    "sp.limit(f, x, 0)"
   ]
  },
  {
   "cell_type": "markdown",
   "id": "f5a58be1",
   "metadata": {},
   "source": [
    "$$\\lim_{x \\to 1} \\frac{x^2-1}{x-1}$$"
   ]
  },
  {
   "cell_type": "code",
   "execution_count": 8,
   "id": "44b94436",
   "metadata": {},
   "outputs": [
    {
     "data": {
      "text/latex": [
       "$\\displaystyle 2$"
      ],
      "text/plain": [
       "2"
      ]
     },
     "execution_count": 8,
     "metadata": {},
     "output_type": "execute_result"
    }
   ],
   "source": [
    "f = (x**2 - 1) / (x - 1)\n",
    "sp.limit(f, x, 1)"
   ]
  },
  {
   "cell_type": "markdown",
   "id": "1c55e91c",
   "metadata": {},
   "source": [
    "$$\\lim_{x \\to 1} sin(lnx)$$"
   ]
  },
  {
   "cell_type": "code",
   "execution_count": 9,
   "id": "352c508e",
   "metadata": {},
   "outputs": [
    {
     "data": {
      "text/latex": [
       "$\\displaystyle 0$"
      ],
      "text/plain": [
       "0"
      ]
     },
     "execution_count": 9,
     "metadata": {},
     "output_type": "execute_result"
    }
   ],
   "source": [
    "f = sp.sin(sp.log(x))\n",
    "sp.limit(f, x, 1)"
   ]
  },
  {
   "cell_type": "markdown",
   "id": "14544447",
   "metadata": {},
   "source": [
    "$$\\lim_{x \\to 8} \\frac{\\sqrt[3]{x}-2}{x-8}$$"
   ]
  },
  {
   "cell_type": "code",
   "execution_count": 10,
   "id": "aaaa0b70",
   "metadata": {},
   "outputs": [
    {
     "data": {
      "text/latex": [
       "$\\displaystyle \\frac{1}{12}$"
      ],
      "text/plain": [
       "1/12"
      ]
     },
     "execution_count": 10,
     "metadata": {},
     "output_type": "execute_result"
    }
   ],
   "source": [
    "f = (sp.root(x, 3) - 2) / (x - 8)\n",
    "sp.limit(f, x, 8)"
   ]
  },
  {
   "cell_type": "markdown",
   "id": "56c7cb76",
   "metadata": {},
   "source": [
    "$$\\lim_{n \\to \\infty} \\frac{1}{n^2} + \\frac{2}{n^2} + ... + \\frac{n}{n^2}$$"
   ]
  },
  {
   "cell_type": "code",
   "execution_count": 11,
   "id": "7ea2d223",
   "metadata": {},
   "outputs": [
    {
     "data": {
      "text/latex": [
       "$\\displaystyle \\frac{1}{2}$"
      ],
      "text/plain": [
       "1/2"
      ]
     },
     "execution_count": 11,
     "metadata": {},
     "output_type": "execute_result"
    }
   ],
   "source": [
    "m, n = sp.symbols('m n')\n",
    "f = sp.summation(m / n**2, (m, 1, n))\n",
    "sp.limit(f, n, sp.oo)"
   ]
  },
  {
   "cell_type": "markdown",
   "id": "b7c28aa1",
   "metadata": {},
   "source": [
    "## 导数"
   ]
  },
  {
   "cell_type": "markdown",
   "id": "77e97c5b",
   "metadata": {},
   "source": [
    "### 常用导数公式\n",
    "\n",
    "|||\n",
    "|:-|:-|\n",
    "|$(C)' = 0$|$(x^\\mu)'=\\mu x^{\\mu-1}$|\n",
    "|$(a^x)' = a^xlna, a>0, a\\not=1$|$(e^x)' = e^x$|\n",
    "|$(log_ax)' = \\frac{1}{xlna}, a>0, a\\not=1$|$(lnx)' = \\frac{1}{x}$|\n",
    "|$(sinx)' = cosx$|$(cosx)' = -sinx$|\n",
    "|$(tanx)' = sec^2x$|$(cotx)' = -csc^2x$|\n",
    "|$(secx)' = secxtanx$|(cscx)' = -cscxcotx|\n",
    "|$(arcsinx)' = \\frac{1}{\\sqrt{1-x^2}}$|$(arccosx)' = -\\frac{1}{\\sqrt{1 - x^2}}$|\n",
    "|$(arctanx)' = \\frac{1}{1 + x^2}$|$(arccotx)' = -\\frac{1}{1 + x^2}$|"
   ]
  },
  {
   "cell_type": "markdown",
   "id": "114c25ac",
   "metadata": {},
   "source": [
    "$1\\mu1$"
   ]
  },
  {
   "cell_type": "markdown",
   "id": "ad38e5e0",
   "metadata": {},
   "source": [
    "## 函数的基本求导法则"
   ]
  },
  {
   "cell_type": "markdown",
   "id": "ffd299ae",
   "metadata": {},
   "source": [
    "[u(x) &plusmn; v(x)]' = u'(x) &plusmn; v'(x)  \n",
    "$[u(x)v(x)]' = u'(x)v(x) + u(x)v'(x)$  \n",
    "$[\\frac{u(x)}{v(x)}]' = \\frac{u'(x)v(x) - u(x)v'(x)}{v^2(x)}, v(x) \\not= 0 $"
   ]
  },
  {
   "cell_type": "markdown",
   "id": "264b600b",
   "metadata": {},
   "source": [
    "$$y = arcsin \\sqrt{sinx}$$"
   ]
  },
  {
   "cell_type": "code",
   "execution_count": 12,
   "id": "6be6fe0e",
   "metadata": {},
   "outputs": [
    {
     "data": {
      "text/latex": [
       "$\\displaystyle \\frac{\\cos{\\left(x \\right)}}{2 \\sqrt{1 - \\sin{\\left(x \\right)}} \\sqrt{\\sin{\\left(x \\right)}}}$"
      ],
      "text/plain": [
       "cos(x)/(2*sqrt(1 - sin(x))*sqrt(sin(x)))"
      ]
     },
     "execution_count": 12,
     "metadata": {},
     "output_type": "execute_result"
    }
   ],
   "source": [
    "sp.diff(sp.asin(sp.sqrt(sp.sin(x))))"
   ]
  },
  {
   "cell_type": "markdown",
   "id": "282042bf",
   "metadata": {},
   "source": [
    "$$y = x^4 - 2x^3 + 5sinx + ln3$$"
   ]
  },
  {
   "cell_type": "code",
   "execution_count": 13,
   "id": "ffba2453",
   "metadata": {},
   "outputs": [
    {
     "data": {
      "text/latex": [
       "$\\displaystyle 4 x^{3} - 6 x^{2} + 5 \\cos{\\left(x \\right)}$"
      ],
      "text/plain": [
       "4*x**3 - 6*x**2 + 5*cos(x)"
      ]
     },
     "execution_count": 13,
     "metadata": {},
     "output_type": "execute_result"
    }
   ],
   "source": [
    "sp.diff(x**4 - 2 * x**3 + 5 * sp.sin(x) + sp.log(3))"
   ]
  },
  {
   "cell_type": "markdown",
   "id": "bd3b192f",
   "metadata": {},
   "source": [
    "对多项式 $x^5 + 2x^4 + 3x^2 +5$ 求导"
   ]
  },
  {
   "cell_type": "code",
   "execution_count": 14,
   "id": "47f4bffa",
   "metadata": {},
   "outputs": [
    {
     "name": "stdout",
     "output_type": "stream",
     "text": [
      "构造多项式为：\n",
      "    5     4     2\n",
      "1 x + 2 x + 3 x + 5\n",
      "一阶导数：\n",
      "    4     3\n",
      "5 x + 8 x + 6 x\n",
      "一阶导数在 x=1 处的值：\n",
      " 19.0\n",
      "一阶导数：\n",
      "    4     3\n",
      "5 x + 8 x + 6 x\n",
      "一阶导数在 x=1 处的值：\n",
      " 19.0\n"
     ]
    }
   ],
   "source": [
    "p = np.poly1d([1,2,0,3,0,5])\n",
    "print('构造多项式为：\\n', p)\n",
    "print('一阶导数：\\n', np.polyder(p, 1))\n",
    "print('一阶导数在 x=1 处的值：\\n', np.polyder(p, 1)(1.0))\n",
    "print('一阶导数：\\n', p.deriv(1))\n",
    "print('一阶导数在 x=1 处的值：\\n', p.deriv(1)(1.0))"
   ]
  },
  {
   "cell_type": "markdown",
   "id": "2417cd2b",
   "metadata": {},
   "source": [
    "## 偏导数"
   ]
  },
  {
   "cell_type": "markdown",
   "id": "088f738b",
   "metadata": {},
   "source": [
    "求 $f(x,y) = x^2 + 3xy + y^2$ 在点（1，2）处的偏导数"
   ]
  },
  {
   "cell_type": "code",
   "execution_count": 15,
   "id": "256ba588",
   "metadata": {},
   "outputs": [
    {
     "name": "stdout",
     "output_type": "stream",
     "text": [
      "8.00000000000000\n",
      "7.00000000000000\n"
     ]
    }
   ],
   "source": [
    "y = sp.Symbol('y')\n",
    "\n",
    "f = x**2 + 3*x*y + y**2\n",
    "fx = sp.diff(f, x)\n",
    "print(fx.evalf(subs={x:1, y:2}))\n",
    "fy = sp.diff(f, y)\n",
    "print(fy.evalf(subs={x:1, y:2}))"
   ]
  },
  {
   "cell_type": "markdown",
   "id": "b8640e6e",
   "metadata": {},
   "source": [
    "已知 $z = (3x^2 + y ^2)^{4x + 2y}$，求在点（1，2）处的偏导数。"
   ]
  },
  {
   "cell_type": "code",
   "execution_count": 16,
   "id": "04b94a0e",
   "metadata": {},
   "outputs": [
    {
     "name": "stdout",
     "output_type": "stream",
     "text": [
      "84401203.0927369\n",
      "48788945.5463684\n"
     ]
    }
   ],
   "source": [
    "f = (3 * x ** 2 + y ** 2) ** (4 * x + 2 * y)\n",
    "fx = sp.diff(f, x)\n",
    "print(fx.evalf(subs={x:1, y:2}))\n",
    "fy = sp.diff(f, y)\n",
    "print(fy.evalf(subs={x:1, y:2}))"
   ]
  },
  {
   "cell_type": "markdown",
   "id": "4e879d49",
   "metadata": {},
   "source": [
    "## 方向导数和梯度"
   ]
  },
  {
   "cell_type": "markdown",
   "id": "b1a569eb",
   "metadata": {},
   "source": [
    "如果函数 z = f(x,y) 在点 $p(x_0, y_0)$ 是可微分的，那么函数在该点的任意方向 l 的方向导数都存在，且有 $\\frac{\\partial f}{\\partial l} = \\frac{\\partial f}{\\partial x}cos\\phi + \\frac{\\partial f}{\\partial y}sin\\phi，其中 \\phi 为 x 轴到 l 方向的转角。$"
   ]
  },
  {
   "cell_type": "markdown",
   "id": "a144a6f9",
   "metadata": {},
   "source": [
    "辅助角公式：Acosx + Bsinx = $\\sqrt{A^2 + B^2}sin(x + \\phi)$ ，其中 $\\phi$ = $\\frac{B}{A}$"
   ]
  },
  {
   "cell_type": "markdown",
   "id": "33e9a884",
   "metadata": {},
   "source": [
    "求函数 $z = x^2 + y^2$ 在点（1，2）处沿点（1，2）到点 $(2,2+\\sqrt{3})$ 方向的方向导数，以及在点（1，2）的梯度。"
   ]
  },
  {
   "cell_type": "code",
   "execution_count": 17,
   "id": "e7e2a36d",
   "metadata": {},
   "outputs": [
    {
     "name": "stdout",
     "output_type": "stream",
     "text": [
      "方向导数为： 1.0 + 2.0*sqrt(3)\n",
      "grad z = (2,4)\n",
      "最大方向导数：|grad z| = 4.47213595499958\n"
     ]
    }
   ],
   "source": [
    "z = x ** 2 + y ** 2\n",
    "zx_value = sp.diff(z, x).evalf(subs={x:1, y:2})\n",
    "zy_value = sp.diff(z, y).evalf(subs={x:1, y:2})\n",
    "angle = sp.atan((2 + sp.sqrt(3) - 2) / (2 - 1))\n",
    "zl_value = zx_value * sp.cos(angle) + zy_value * sp.sin(angle)\n",
    "print('方向导数为：', zl_value)\n",
    "print('grad z = (%g,%g)' %(zx_value, zy_value))  # 方向导数取最大值的方向\n",
    "print('最大方向导数：|grad z| = {}'.format(sp.sqrt(zx_value ** 2 + zy_value ** 2)))"
   ]
  },
  {
   "cell_type": "markdown",
   "id": "b4f877ea",
   "metadata": {},
   "source": [
    "使用梯度下降法求解下面函数的最小值：  \n",
    "$f(x) = x_1 - x_2 + 2x_1^2 + 2x_1x_2 + x_2^2$, 给定初值 $X^{(0)} = (0,0)^T$。"
   ]
  },
  {
   "cell_type": "code",
   "execution_count": 18,
   "id": "da9081ac",
   "metadata": {
    "scrolled": true
   },
   "outputs": [
    {
     "data": {
      "image/png": "[encoded data removed]",
      "text/plain": [
       "<Figure size 432x288 with 1 Axes>"
      ]
     },
     "metadata": {
      "needs_background": "light"
     },
     "output_type": "display_data"
    }
   ],
   "source": [
    "def fun(x1, x2):\n",
    "    return x1 - x2 + 2 * x1 ** 2 + 2 * x1 * x2 + x2 ** 2\n",
    "\n",
    "\n",
    "def px1(x1, x2):\n",
    "    '''f(x) 关于 x1 的偏导\n",
    "    '''\n",
    "    return 1 + 4 * x1 + 2 * x2\n",
    "\n",
    "\n",
    "def px2(x1, x2):\n",
    "    '''f(x) 关于 x2 的偏导\n",
    "    '''\n",
    "    return -1 + 2 * x1 + 2 * x2\n",
    "\n",
    "\n",
    "fig = plt.figure()\n",
    "ax = Axes3D(fig, auto_add_to_figure=False)\n",
    "fig.add_axes(ax)\n",
    "x1, x2 = np.mgrid[-2:2:40j, -2:2:40j]\n",
    "f = fun(x1, x2)\n",
    "ax.plot_surface(x1, x2, f, rstride=1, cstride=1, cmap='rainbow')\n",
    "ax.set_xlabel('x1')\n",
    "ax.set_ylabel('x2')\n",
    "ax.set_zlabel('f')\n",
    "\n",
    "# 梯度下降法求最小值\n",
    "step = 0.0008\n",
    "x1 = 0\n",
    "x2 = 0\n",
    "tag_x1 = [x1]\n",
    "tag_x2 = [x2]\n",
    "tag_f = [fun(x1, x2)]\n",
    "new_x1 = x1\n",
    "new_x2 = x2\n",
    "Over = False\n",
    "while Over == False:\n",
    "    new_x1 -= step * px1(x1, x2)\n",
    "    new_x2 -= step * px2(x1, x2)\n",
    "    if fun(x1, x2) - fun(new_x1, new_x2) < 7e-9:\n",
    "        Over = True\n",
    "    x1 = new_x1\n",
    "    x2 = new_x2\n",
    "    tag_x1.append(x1)\n",
    "    tag_x2.append(x2)\n",
    "    tag_f.append(fun(x1, x2))\n",
    "ax.plot(tag_x1, tag_x2, tag_f, 'r')\n",
    "plt.title('(x1,x2)~(' + str(x1) + ',' + str(x2) + ')')\n",
    "plt.show()"
   ]
  }
 ],
 "metadata": {
  "kernelspec": {
   "display_name": "Python 3 (ipykernel)",
   "language": "python",
   "name": "python3"
  },
  "language_info": {
   "codemirror_mode": {
    "name": "ipython",
    "version": 3
   },
   "file_extension": ".py",
   "mimetype": "text/x-python",
   "name": "python",
   "nbconvert_exporter": "python",
   "pygments_lexer": "ipython3",
   "version": "3.8.11"
  }
 },
 "nbformat": 4,
 "nbformat_minor": 5
}
