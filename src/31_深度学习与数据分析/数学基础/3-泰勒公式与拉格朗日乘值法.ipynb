{
 "cells": [
  {
   "cell_type": "markdown",
   "id": "6933eeaa",
   "metadata": {},
   "source": [
    "file: 3-泰勒公式与拉格朗日乘值法.ipynb  \n",
    "site: github.com/IYATT-yx/learning  \n",
    "\n",
    "Copyright (C) 2021 IYATT-yx (Zhao Hongfei, 赵洪飞)，2514374431@qq.com\n",
    "This program is free software: you can redistribute it and/or modify\n",
    "it under the terms of the GNU Affero General Public License as published\n",
    "by the Free Software Foundation, either version 3 of the License, or\n",
    "(at your option) any later version.\n",
    "This program is distributed in the hope that it will be useful,\n",
    "but WITHOUT ANY WARRANTY; without even the implied warranty of\n",
    "MERCHANTABILITY or FITNESS FOR A PARTICULAR PURPOSE.  See the\n",
    "GNU Affero General Public License for more details.\n",
    "You should have received a copy of the GNU Affero General Public License\n",
    "along with this program.  If not, see <https://www.gnu.org/licenses/>."
   ]
  },
  {
   "cell_type": "markdown",
   "id": "ec114df2",
   "metadata": {},
   "source": [
    "## 定理1 - 泰勒公式1"
   ]
  },
  {
   "cell_type": "markdown",
   "id": "66d727cf",
   "metadata": {},
   "source": [
    "如果函数 f(x) 在点 $x_0$ 处具有 n 阶导数，那么存在 $x_0$ 的一个领域，对于该领域内的任意点 x，有 $f(x)=f(x_0)+f'(x_0)(x-x_0)+\\frac{1}{2!}f“(x_0)(x-x_0)^2+...+\\frac{1}{n!}f^{(n)}(x_0)(x-x_0)^n+R_n(x)$  \n",
    "\n",
    "佩亚诺余项：$R_n(x)=O[(x-x_0)^n]$，用于表示用 n 次泰勒多项式近似表达 f(x) 所产生的误差。"
   ]
  },
  {
   "cell_type": "markdown",
   "id": "bc32873c",
   "metadata": {},
   "source": [
    "## 定理2 - 泰勒公式2"
   ]
  },
  {
   "cell_type": "markdown",
   "id": "27e61b4d",
   "metadata": {},
   "source": [
    "如果函数 f(x) 在点 $x_0$ 的某个领域 U($x_0$) 内具有 (x+1) 阶导数，那么对任意点 $x \\in U(x_0)$，有 $f(x)=f(x_0)+f'(x_0)(x-x_0)+\\frac{1}{2!}f“(x_0)(x-x_0)^2+...+\\frac{1}{n!}f^{(n)}(x_0)(x-x_0)^n+R_n(x)$  \n",
    "拉格朗日余项：$R_n(x)=\\frac{f^{n+1}(\\xi)}{(n+1)!}(x-x_0)^{n+1}, \\xi $ 是 $x_0$ 与 x 之间的某个值。"
   ]
  },
  {
   "cell_type": "markdown",
   "id": "dbf46404",
   "metadata": {},
   "source": [
    "## 定理3 - 麦克劳林公式"
   ]
  },
  {
   "cell_type": "markdown",
   "id": "9b24cc04",
   "metadata": {},
   "source": [
    "如果泰勒公式 2 中 $x_0$=0，$\\xi$ 就是 0 与 x 之间的某个值，因此可以令 $\\xi$ = $\\theta$x (0<$\\theta$<1)，泰勒公式 2 化简为 $f(x)=f(0)+f'(0)(x)+\\frac{1}{2!}f“(0)(x)^2+...+\\frac{1}{n!}f^{(n)}(0)(x)^n+\\frac{f^{n+1}(\\theta x)}{(n+1)!}(x)^{n+1}$"
   ]
  },
  {
   "cell_type": "markdown",
   "id": "f19e3caf",
   "metadata": {},
   "source": [
    "$$求函数 $f(x)-e^x$ 的 n 阶麦克劳林展开式。$$"
   ]
  },
  {
   "cell_type": "markdown",
   "id": "6350e084",
   "metadata": {},
   "source": [
    "$\\because f'(x)=f''(x)=f'''(x)=...=f^{(n)}(x)=e^x$  \n",
    "$\\therefore f'(0)=f''(0)=f'''(0)=...=f^{(n)}(0)=1$  \n",
    "$e^x \\approx 1+x+\\frac{x^2}{2!}+\\frac{x^3}{3!}+...+\\frac{x^n}{n!}$，误差 $|R_n(x)|=|\\frac{x^{\\theta x}}{(n+1)!}x^{(n+1)}|<\\frac{e^{|x|}}{(n+1)}|x|^{(n+1)}$，0<$\\theta$<1。  \n",
    "取 x=1，则 e 的近似式为 e $\\approx 1+1+\\frac{1}{2!}+\\frac{1}{3!}+...+\\frac{1}{n!}$，$|R_n|<\\frac{e}{(n+1)!}<\\frac{3}{(n+1)!}$  \n",
    "当 n=10 时，可计算 e $\\approx$ 2.718282,其误差不超过 $10^{-6}$"
   ]
  },
  {
   "cell_type": "code",
   "execution_count": 1,
   "id": "59eb6729",
   "metadata": {},
   "outputs": [
    {
     "name": "stdout",
     "output_type": "stream",
     "text": [
      "2.7182818011463845\n"
     ]
    }
   ],
   "source": [
    "def fe(n):\n",
    "    sum1 = 1\n",
    "    if n == 0:\n",
    "        pass\n",
    "    else:\n",
    "        for i in range(1, n + 1):\n",
    "            sum2=1\n",
    "            for j in range(1, i + 1):\n",
    "                sum2 = sum2 * j\n",
    "            sum1 = sum1 + 1 / sum2\n",
    "    return sum1\n",
    "print(fe(10))"
   ]
  },
  {
   "cell_type": "markdown",
   "id": "b8434ea8",
   "metadata": {},
   "source": [
    "$$求函数 f(x)=sinx 的 n 阶麦克劳林展开式。$$"
   ]
  },
  {
   "cell_type": "markdown",
   "id": "4721a9d5",
   "metadata": {},
   "source": [
    "$\\because f'(x)=0, f''(x)=-sinx, f'''(x)=-cosx, f4(x)=sinx,...,f^{(n)}(x)=sin(x+n\\cdot\\frac{\\pi}{2})$  \n",
    "$\\therefore f(0)=0, f'(0)=1, f''(0)=0, f'''(0)=-1, f^4(x)=0$，偶数次导都为 0，则令 n=2m  \n",
    "$sinx=x-\\frac{x^3}{3!}+\\frac{x^5}{5!}-...+(-1)^{(m-1)}\\frac{x^{2m-1}}{(2m-1)!}+R_{2m}(x)$  \n",
    "$R_{2m}(x)=\\frac{sin[\\theta x+(2m+1)\\cdot \\frac{\\pi}{2}]}{(2m+1)!}x^(2m+1)=-1^m\\frac{cos\\theta x}{(2m+1)！}x^{2m+1}, 0<\\theta<1$"
   ]
  },
  {
   "cell_type": "code",
   "execution_count": 2,
   "id": "d3ecc6dd",
   "metadata": {},
   "outputs": [
    {
     "name": "stdout",
     "output_type": "stream",
     "text": [
      "fsin\t\tnp.sin\n",
      "+0.000000\t+0.000000\n",
      "+0.239042\t+0.239042\n",
      "+0.464224\t+0.464224\n",
      "+0.662490\t+0.662490\n",
      "+0.822343\t+0.822343\n",
      "+0.934516\t+0.934516\n",
      "+0.992504\t+0.992504\n",
      "+0.992945\t+0.992945\n",
      "+0.935813\t+0.935813\n",
      "+0.824421\t+0.824421\n",
      "+0.665228\t+0.665228\n",
      "+0.467464\t+0.467464\n",
      "+0.242596\t+0.242596\n",
      "+0.003662\t+0.003662\n",
      "-0.235485\t-0.235485\n",
      "-0.460978\t-0.460978\n",
      "-0.659743\t-0.659743\n",
      "-0.820254\t-0.820254\n",
      "-0.933206\t-0.933206\n",
      "-0.992050\t-0.992050\n",
      "-0.993372\t-0.993372\n",
      "-0.937097\t-0.937097\n",
      "-0.826488\t-0.826488\n",
      "-0.667958\t-0.667958\n",
      "-0.470698\t-0.470698\n",
      "-0.246147\t-0.246147\n",
      "-0.007323\t-0.007323\n",
      "+0.231925\t+0.231925\n",
      "+0.457726\t+0.457726\n",
      "+0.656987\t+0.656987\n"
     ]
    }
   ],
   "source": [
    "import numpy as np\n",
    "\n",
    "def fsin(x):\n",
    "    n = 30\n",
    "    sum1 = 0\n",
    "    for i in range(1, n + 1):\n",
    "        if i % 2 == 0:\n",
    "            continue\n",
    "        sum2 = 1\n",
    "        for j in range(1, i + 1):\n",
    "            sum2 = sum2 * j\n",
    "        sum1 = sum1 + (-1) ** ((i + 1) / 2 - 1) * x ** i / sum2\n",
    "    return sum1\n",
    "\n",
    "print('fsin\\t\\tnp.sin')\n",
    "for x in np.linspace(0, 7, 30):\n",
    "    print('%+f\\t%+f' %(fsin(x), np.sin(x)))"
   ]
  },
  {
   "cell_type": "markdown",
   "id": "8e1e1079",
   "metadata": {},
   "source": [
    "## 求解拉格朗日乘子法"
   ]
  },
  {
   "cell_type": "markdown",
   "id": "bda47609",
   "metadata": {},
   "source": [
    "* 原问题描述：求解函数 z=f(x,y) 在条件 $\\phi$(x,y)=0 下极值。  \n",
    "* 构造函数：F(x,y,$\\lambda$)=f(x,y)+$\\lambda \\cdot \\phi$(x,y)，其中 $\\lambda$ 为拉格朗日乘子。  \n",
    "* 构造函数求导列出方程组：\n",
    "$$\\left\\{\n",
    "\\begin{array}{lr}\n",
    "    \\frac{\\partial F}{\\partial x}=0 \\\\\n",
    "    \\frac{\\partial F}{\\partial y}=0 \\\\\n",
    "    \\frac{\\partial F}{\\partial \\lambda}=0\n",
    "\\end{array}\n",
    "\\right.$$\n",
    "* 求出 x,y, $\\lambda$ 的值，代入即可得目标函数的极值。\n",
    "\n",
    "注：自变量多于两个的情况下，求解过程也同上。"
   ]
  },
  {
   "cell_type": "markdown",
   "id": "a565ff44",
   "metadata": {},
   "source": [
    "$$已知目标函数为 V(x,y,z)=xyz，在约束条件 2xy+2xz+2yz=12 下，求体积 V 的最大值。$$"
   ]
  },
  {
   "cell_type": "markdown",
   "id": "62e9cab0",
   "metadata": {},
   "source": [
    "构造函数为 F(x,y,z,$\\lambda$)=xyz+$\\lambda \\cdot$(2xy+2xz+2yz-12)，  \n",
    "求偏导可得方程：\n",
    "$$\\left\\{\n",
    "\\begin{array}{lr}\n",
    "    yz+\\lambda \\cdot(2y+2z)=0 \\\\\n",
    "    xz+\\lambda \\cdot(2x+2z)=0 \\\\\n",
    "    xy+\\lambda \\cdot(2x+2y)=0 \\\\\n",
    "    2xy+2xz+2yz-12=0\n",
    "\\end{array}\n",
    "\\right.$$\n",
    "解得x=y=z=$\\sqrt{2}$，$\\lambda=-\\frac{\\sqrt{2}}{4}$，目标函数的最大值为 $2\\sqrt{2}$"
   ]
  }
 ],
 "metadata": {
  "kernelspec": {
   "display_name": "Python 3 (ipykernel)",
   "language": "python",
   "name": "python3"
  },
  "language_info": {
   "codemirror_mode": {
    "name": "ipython",
    "version": 3
   },
   "file_extension": ".py",
   "mimetype": "text/x-python",
   "name": "python",
   "nbconvert_exporter": "python",
   "pygments_lexer": "ipython3",
   "version": "3.8.11"
  }
 },
 "nbformat": 4,
 "nbformat_minor": 5
}
