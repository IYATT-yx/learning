{
 "cells": [
  {
   "cell_type": "markdown",
   "id": "402c80ec",
   "metadata": {},
   "source": [
    "file: 2-微积分.ipynb  \n",
    "site: github.com/IYATT-yx/learning  \n",
    "\n",
    "Copyright (C) 2021 IYATT-yx (Zhao Hongfei, 赵洪飞)，2514374431@qq.com\n",
    "This program is free software: you can redistribute it and/or modify\n",
    "it under the terms of the GNU Affero General Public License as published\n",
    "by the Free Software Foundation, either version 3 of the License, or\n",
    "(at your option) any later version.\n",
    "This program is distributed in the hope that it will be useful,\n",
    "but WITHOUT ANY WARRANTY; without even the implied warranty of\n",
    "MERCHANTABILITY or FITNESS FOR A PARTICULAR PURPOSE.  See the\n",
    "GNU Affero General Public License for more details.\n",
    "You should have received a copy of the GNU Affero General Public License\n",
    "along with this program.  If not, see <https://www.gnu.org/licenses/>."
   ]
  },
  {
   "cell_type": "code",
   "execution_count": 1,
   "id": "27522efd",
   "metadata": {},
   "outputs": [],
   "source": [
    "import numpy as np"
   ]
  },
  {
   "cell_type": "code",
   "execution_count": 2,
   "id": "df45b87f",
   "metadata": {},
   "outputs": [],
   "source": [
    "try:\n",
    "    import scipy as scp\n",
    "except ModuleNotFoundError:\n",
    "    !pip3 install scipy\n",
    "finally:\n",
    "    from scipy.integrate import *"
   ]
  },
  {
   "cell_type": "markdown",
   "id": "c55c0a69",
   "metadata": {},
   "source": [
    "## 数值积分常用函数"
   ]
  },
  {
   "cell_type": "markdown",
   "id": "7ee958f3",
   "metadata": {},
   "source": [
    "|函数名|描述（未注明的在 SciPy 中）|\n",
    "|:-|:-|\n",
    "|quad|单积分|\n",
    "|dblquad|二重积分|\n",
    "|tplquad|三重积分|\n",
    "|nquad|n 倍多重积分|\n",
    "|fixed_quad|高斯积分，阶数为 n|\n",
    "|quadrature|高斯正交到容差|\n",
    "|romberg|Romberg 积分|\n",
    "|trapz|梯形规则|\n",
    "|cumtrapz|梯形法则累积计算积分|\n",
    "|simps|辛普森的规则|\n",
    "|romb|Romberg 积分|\n",
    "|polyint|分析多项式积分（NumPy)|\n",
    "|polyld|辅助函数（NumPy)|"
   ]
  },
  {
   "cell_type": "markdown",
   "id": "765329a5",
   "metadata": {},
   "source": [
    "## 积分定义"
   ]
  },
  {
   "cell_type": "markdown",
   "id": "3658492b",
   "metadata": {},
   "source": [
    "$$\\int_a^b f(x) \\mathrm{d} x = \\lim_{\\lambda \\to 0} \\sum_{i=1}^n f(\\xi) \\Delta x_i$$"
   ]
  },
  {
   "cell_type": "markdown",
   "id": "178b6aed",
   "metadata": {},
   "source": [
    "计算机求解定积分的算法思路：将求积区间进行 n 等分，步长为 $\\frac{b-a}{n}$ ，循环 n 次求解 n 个小梯形面积之和，结果即为定积分的近似解  \n",
    "\n",
    "1.分割：$$a=x_0<x_1<x_2<...<x_{i-1}<x_i<...<x_n=b$$  \n",
    "2.近似：$$\\Delta S_i \\approx f(\\xi) \\Delta x_i，\\xi _i \\in [x_{i-1},x_i]，\\Delta x_i = x_i - x_{i-1}，i=1,2,...,n$$  \n",
    "3.求和：$$\\sum_{i=1}^n f(\\xi _i) \\Delta x_i$$  \n",
    "4.求极限：$$\\lim_{\\lambda \\to 0} \\sum_{i=1}^n f(\\xi _i) \\Delta x_i$$"
   ]
  },
  {
   "cell_type": "markdown",
   "id": "df407e81",
   "metadata": {},
   "source": [
    "## 定积分性质"
   ]
  },
  {
   "cell_type": "markdown",
   "id": "387aeaf9",
   "metadata": {},
   "source": [
    "性质1  \n",
    "$\\int_a^b [f(x) \\pm g(x)] \\mathrm{d} x = \\int_a^b f(x) \\mathrm{d} x \\pm \\int_a^b g(x) \\mathrm{d} x$"
   ]
  },
  {
   "cell_type": "markdown",
   "id": "b330c676",
   "metadata": {},
   "source": [
    "性质2  \n",
    "$\\int_a^b kf(x) \\mathrm{d} x = k \\int_a^b f(x) \\mathrm{d} x$"
   ]
  },
  {
   "cell_type": "markdown",
   "id": "d14f1065",
   "metadata": {},
   "source": [
    "性质3  \n",
    "$\\int_a^b f(x) \\mathrm{d} x = \\int_a^c f(x) \\mathrm{d} x + \\int_c^b f(x) \\mathrm{d} x$"
   ]
  },
  {
   "cell_type": "markdown",
   "id": "fa638bdf",
   "metadata": {},
   "source": [
    "性质4  \n",
    "$如果在区间 [a,b] 上，f(x) \\geq 0，则 \\int_a^b f(x) \\mathrm{d} x \\geq 0，a < b$"
   ]
  },
  {
   "cell_type": "markdown",
   "id": "af10fd59",
   "metadata": {},
   "source": [
    "性质5  \n",
    "$如果在区间 [a,b] 上，f(x)=1，则 \\int_a^b 1 \\mathrm{d} x = \\int_a^b \\mathrm{d} x = b-a$  \n",
    "推论1  \n",
    "$如果在区间 [a,b] 上，f(x) \\leq g(x)，则 \\int_a^b f(x) \\mathrm{d} x \\leq \\int_a^b g(x) \\mathrm{d} x，a<b$  \n",
    "推论2  \n",
    "$在区间 [a,b] 上，|\\int_a^b f(x) \\mathrm{d} x| \\leq \\int_a^b |f(x)| \\mathrm{d} x，a<b$"
   ]
  },
  {
   "cell_type": "markdown",
   "id": "11e85832",
   "metadata": {},
   "source": [
    "性质6 - 积分中值定理  \n",
    "$如果函数 f(x) 在闭区间 [a,b] 上连续，则在积分区间 [a,b] 上至少存在一点 \\xi，使式子成立：\\int_a^b f(x) \\mathrm{d} x = f(\\xi)(b-a)，a \\leq \\xi \\leq b$"
   ]
  },
  {
   "cell_type": "markdown",
   "id": "9d658800",
   "metadata": {},
   "source": [
    "微分中值定理  \n",
    "$F'(\\xi)(b-a)=F(b)-F(a)$"
   ]
  },
  {
   "cell_type": "markdown",
   "id": "717cc964",
   "metadata": {},
   "source": [
    "牛顿-莱布尼茨公式包含：积分中值定理 & 微分中值定理"
   ]
  },
  {
   "cell_type": "markdown",
   "id": "547f24d6",
   "metadata": {},
   "source": [
    "$$\\int_0^3 cos^2 (e^x) \\mathrm{d} x$$"
   ]
  },
  {
   "cell_type": "code",
   "execution_count": 3,
   "id": "16fab3d0",
   "metadata": {},
   "outputs": [
    {
     "data": {
      "text/plain": [
       "(1.296467785724373, 1.3977971863744082e-09)"
      ]
     },
     "execution_count": 3,
     "metadata": {},
     "output_type": "execute_result"
    }
   ],
   "source": [
    "# 使用 SciPy\n",
    "f = lambda x: np.cos(np.exp(x)) ** 2\n",
    "quad(f, 0, 3)  # 积分值，误差"
   ]
  },
  {
   "cell_type": "code",
   "execution_count": 4,
   "id": "1cc0937f",
   "metadata": {
    "scrolled": true
   },
   "outputs": [
    {
     "name": "stdout",
     "output_type": "stream",
     "text": [
      "0.9448223264053134\n",
      "1.2843391540917448\n",
      "1.2960750567338157\n",
      "1.296434741500134\n",
      "1.2964645400078034\n"
     ]
    }
   ],
   "source": [
    "# 不借助第三方库，利用定义求解\n",
    "def trape(n):\n",
    "    '''数值计算\n",
    "    '''\n",
    "    f = lambda x: np.cos(np.exp(x)) ** 2\n",
    "    a, b = 0, 3\n",
    "    h = (b - a) / n\n",
    "    x = a\n",
    "    sum = 0\n",
    "    for i in range(1, n):\n",
    "        x2 = a + i * h\n",
    "        sum = sum + (f(x) + f(x2)) * h / 2\n",
    "        x = x2\n",
    "    return sum\n",
    "\n",
    "# 分段数依次取 10、100、1000、10000、100000\n",
    "print(trape(10))\n",
    "print(trape(100))\n",
    "print(trape(1000))\n",
    "print(trape(10000))\n",
    "print(trape(100000))"
   ]
  },
  {
   "cell_type": "markdown",
   "id": "c5e33aec",
   "metadata": {},
   "source": [
    "$$\\int_1^2 (x^2 + \\frac{1}{x^4}) \\mathrm{d} x$$"
   ]
  },
  {
   "cell_type": "markdown",
   "id": "f3567920",
   "metadata": {},
   "source": [
    "牛顿-莱布尼茨法"
   ]
  },
  {
   "cell_type": "markdown",
   "id": "f7b53a2f",
   "metadata": {},
   "source": [
    "$=(\\frac{x^3}{3}-\\frac{1}{3x^3})|_1^2 = \\frac{21}{8} = 2.625$"
   ]
  },
  {
   "cell_type": "markdown",
   "id": "b97b086b",
   "metadata": {},
   "source": [
    "SciPy"
   ]
  },
  {
   "cell_type": "code",
   "execution_count": 5,
   "id": "072512f9",
   "metadata": {},
   "outputs": [
    {
     "data": {
      "text/plain": [
       "(2.625, 2.914335439641036e-14)"
      ]
     },
     "execution_count": 5,
     "metadata": {},
     "output_type": "execute_result"
    }
   ],
   "source": [
    "quad(lambda x: x ** 2 + 1 / x ** 4, 1, 2)"
   ]
  },
  {
   "cell_type": "markdown",
   "id": "d1ce1658",
   "metadata": {},
   "source": [
    "$$\\int_{-1}^0 \\frac{3x^4 + 3x^2 + 1}{x^2 + 1} \\mathrm{d} x$$"
   ]
  },
  {
   "cell_type": "markdown",
   "id": "8feebb4e",
   "metadata": {},
   "source": [
    "$=(3x^2 + \\ arctanx)|_{-1}^0=1+\\frac{\\pi}{4}\\approx 1.785398163$"
   ]
  },
  {
   "cell_type": "code",
   "execution_count": 6,
   "id": "c1f6b90c",
   "metadata": {
    "scrolled": true
   },
   "outputs": [
    {
     "data": {
      "text/plain": [
       "(1.7853981633974483, 1.9821901491273144e-14)"
      ]
     },
     "execution_count": 6,
     "metadata": {},
     "output_type": "execute_result"
    }
   ],
   "source": [
    "quad(lambda x: (3 * x ** 4 + 3 * x ** 2 + 1) / (x ** 2 + 1), -1, 0)"
   ]
  },
  {
   "cell_type": "markdown",
   "id": "26f89d93",
   "metadata": {},
   "source": [
    "$$\\iint_De^{-x^2-y^2}\\mathrm{d}x\\mathrm{d}y，D=\\{(x,y)|0\\leq x\\leq10,0\\leq y\\leq10\\}$$"
   ]
  },
  {
   "cell_type": "code",
   "execution_count": 7,
   "id": "d6de48e6",
   "metadata": {},
   "outputs": [
    {
     "data": {
      "text/plain": [
       "(0.7853981633974476, 1.3753098510194181e-08)"
      ]
     },
     "execution_count": 7,
     "metadata": {},
     "output_type": "execute_result"
    }
   ],
   "source": [
    "x_a = 0\n",
    "x_b = 10\n",
    "y_a = 0\n",
    "y_b = 10\n",
    "\n",
    "dblquad(lambda x, y: np.exp(-x ** 2 - y ** 2), x_a, x_b, lambda x:y_a, lambda x: y_b)"
   ]
  },
  {
   "cell_type": "markdown",
   "id": "5668a14b",
   "metadata": {},
   "source": [
    "计算由曲线 $y^2=2x$ 和直线 y=x-4 所围成的图形面积 S"
   ]
  },
  {
   "cell_type": "code",
   "execution_count": 8,
   "id": "0d0f8fa3",
   "metadata": {},
   "outputs": [
    {
     "data": {
      "image/png": "[encoded data removed]",
      "text/plain": [
       "<Figure size 432x288 with 1 Axes>"
      ]
     },
     "metadata": {
      "needs_background": "light"
     },
     "output_type": "display_data"
    }
   ],
   "source": [
    "# 图像绘制\n",
    "\n",
    "import matplotlib.pyplot as plt\n",
    "\n",
    "y = np.linspace(-5, 5, 1000)\n",
    "x1 = y ** 2 / 2\n",
    "x2 = y + 4\n",
    "\n",
    "plt.figure()\n",
    "plt.xlabel('x')\n",
    "plt.ylabel('y')\n",
    "plt.xlim(0, 9)\n",
    "plt.grid(b=True)\n",
    "plt.plot(x1, y)\n",
    "plt.plot(x2, y)\n",
    "plt.show()"
   ]
  },
  {
   "cell_type": "markdown",
   "id": "999dfd1f",
   "metadata": {},
   "source": [
    "变换形式：\n",
    "$$\\left\\{\n",
    "\\begin{array}{lr}\n",
    "    x=\\frac{y^2}{2} \\\\\n",
    "    x=y+4\n",
    "\\end{array}\n",
    "\\right.$$\n",
    "$$y\\in[-2,4]$$"
   ]
  },
  {
   "cell_type": "markdown",
   "id": "7c674ca0",
   "metadata": {},
   "source": [
    "$$S=\\int_{-2}^4(y+4-\\frac{y^2}{2})\\mathrm{d}y=(\\frac{y^2}{2}+4y-\\frac{y^3}{6})|_{-2}^4=18$$"
   ]
  },
  {
   "cell_type": "code",
   "execution_count": 9,
   "id": "50df3855",
   "metadata": {},
   "outputs": [
    {
     "data": {
      "text/plain": [
       "(18.0, 1.9984014443252818e-13)"
      ]
     },
     "execution_count": 9,
     "metadata": {},
     "output_type": "execute_result"
    }
   ],
   "source": [
    "quad(lambda y: y + 4 - y ** 2 / 2, -2, 4)"
   ]
  }
 ],
 "metadata": {
  "kernelspec": {
   "display_name": "Python 3 (ipykernel)",
   "language": "python",
   "name": "python3"
  },
  "language_info": {
   "codemirror_mode": {
    "name": "ipython",
    "version": 3
   },
   "file_extension": ".py",
   "mimetype": "text/x-python",
   "name": "python",
   "nbconvert_exporter": "python",
   "pygments_lexer": "ipython3",
   "version": "3.8.11"
  }
 },
 "nbformat": 4,
 "nbformat_minor": 5
}
