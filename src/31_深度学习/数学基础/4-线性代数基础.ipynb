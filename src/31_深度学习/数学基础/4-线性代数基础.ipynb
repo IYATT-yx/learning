{
 "cells": [
  {
   "cell_type": "markdown",
   "id": "4a64aa2d",
   "metadata": {},
   "source": [
    "file: 4-线性代数基础.ipynb  \n",
    "site: github.com/IYATT-yx/learning  \n",
    "\n",
    "Copyright (C) 2021 IYATT-yx (Zhao Hongfei, 赵洪飞)，2514374431@qq.com\n",
    "This program is free software: you can redistribute it and/or modify\n",
    "it under the terms of the GNU Affero General Public License as published\n",
    "by the Free Software Foundation, either version 3 of the License, or\n",
    "(at your option) any later version.\n",
    "This program is distributed in the hope that it will be useful,\n",
    "but WITHOUT ANY WARRANTY; without even the implied warranty of\n",
    "MERCHANTABILITY or FITNESS FOR A PARTICULAR PURPOSE.  See the\n",
    "GNU Affero General Public License for more details.\n",
    "You should have received a copy of the GNU Affero General Public License\n",
    "along with this program.  If not, see <https://www.gnu.org/licenses/>."
   ]
  },
  {
   "cell_type": "markdown",
   "id": "362719ff",
   "metadata": {},
   "source": [
    "## 矩阵基础操作"
   ]
  },
  {
   "cell_type": "code",
   "execution_count": 1,
   "id": "92a12a33",
   "metadata": {},
   "outputs": [],
   "source": [
    "import numpy as np\n",
    "import sympy as sp"
   ]
  },
  {
   "cell_type": "markdown",
   "id": "1e3f282a",
   "metadata": {},
   "source": [
    "### 列表"
   ]
  },
  {
   "cell_type": "code",
   "execution_count": 2,
   "id": "7a1fd7e9",
   "metadata": {
    "scrolled": true
   },
   "outputs": [
    {
     "name": "stdout",
     "output_type": "stream",
     "text": [
      "[[1, 2, 3], [4, 5, 6], [7, 8, 9]]\n",
      "[[1 2 3]\n",
      " [4 5 6]\n",
      " [7 8 9]]\n",
      "矩阵类型： <class 'numpy.ndarray'>\n"
     ]
    }
   ],
   "source": [
    "A = [[1,2,3],[4,5,6],[7,8,9]]\n",
    "a = np.array(A)\n",
    "print(A)\n",
    "print(a)\n",
    "print('矩阵类型：', type(a))"
   ]
  },
  {
   "cell_type": "markdown",
   "id": "cb0ce287",
   "metadata": {},
   "source": [
    "### 元组"
   ]
  },
  {
   "cell_type": "code",
   "execution_count": 3,
   "id": "ad6ac0c0",
   "metadata": {},
   "outputs": [
    {
     "name": "stdout",
     "output_type": "stream",
     "text": [
      "((1, 2, 3), (4, 5, 6), (7, 8, 9))\n",
      "[[1 2 3]\n",
      " [4 5 6]\n",
      " [7 8 9]]\n"
     ]
    }
   ],
   "source": [
    "B = ((1,2,3),(4,5,6),(7,8,9))\n",
    "b = np.array(B)\n",
    "print(B)\n",
    "print(b)"
   ]
  },
  {
   "cell_type": "markdown",
   "id": "d5d7c9ac",
   "metadata": {},
   "source": [
    "### 随机"
   ]
  },
  {
   "cell_type": "code",
   "execution_count": 4,
   "id": "7bc89223",
   "metadata": {},
   "outputs": [
    {
     "name": "stdout",
     "output_type": "stream",
     "text": [
      "[[0.62072168 0.8971626  0.82474719]\n",
      " [0.65957636 0.65034318 0.077756  ]\n",
      " [0.82979978 0.8786114  0.21138965]\n",
      " [0.96937265 0.73978475 0.29791096]]\n"
     ]
    }
   ],
   "source": [
    "# 元素在 [0,1) 之间 4x3 的矩阵\n",
    "c = np.random.random((4,3))\n",
    "print(c)"
   ]
  },
  {
   "cell_type": "code",
   "execution_count": 5,
   "id": "fe793d15",
   "metadata": {},
   "outputs": [
    {
     "name": "stdout",
     "output_type": "stream",
     "text": [
      "[[[[0.1193419  0.5919589 ]\n",
      "   [0.6114497  0.38178968]]\n",
      "\n",
      "  [[0.07616742 0.6147575 ]\n",
      "   [0.1010228  0.27287313]]]\n",
      "\n",
      "\n",
      " [[[0.58324184 0.5475117 ]\n",
      "   [0.87303633 0.02191231]]\n",
      "\n",
      "  [[0.58039221 0.72173828]\n",
      "   [0.2741069  0.61715421]]]]\n"
     ]
    }
   ],
   "source": [
    "# 四维 2x2x2x2\n",
    "d = np.random.random((2,2,2,2))\n",
    "print(d)"
   ]
  },
  {
   "cell_type": "code",
   "execution_count": 6,
   "id": "759b3256",
   "metadata": {},
   "outputs": [
    {
     "name": "stdout",
     "output_type": "stream",
     "text": [
      "[[ 5 75]\n",
      " [34 56]]\n"
     ]
    }
   ],
   "source": [
    "# 整数元素的矩阵\n",
    "e = np.random.randint(0, 100, (2,2), dtype=np.int32)  # 元素在 [0,100] 之间，类型为 32 位整数的，大小为 2x2 的矩阵\n",
    "print(e)"
   ]
  },
  {
   "cell_type": "markdown",
   "id": "c54ad65a",
   "metadata": {},
   "source": [
    "### 改变形状"
   ]
  },
  {
   "cell_type": "code",
   "execution_count": 7,
   "id": "05fc6d90",
   "metadata": {},
   "outputs": [
    {
     "name": "stdout",
     "output_type": "stream",
     "text": [
      "[ 1  2  3  4  5  6  7  8  9 10 11 12] 的形状为 (12,)\n"
     ]
    }
   ],
   "source": [
    "F = [1,2,3,4,5,6,7,8,9,10,11,12]\n",
    "f = np.array(F)\n",
    "print('{} 的形状为 {}'.format(f, f.shape))"
   ]
  },
  {
   "cell_type": "code",
   "execution_count": 8,
   "id": "f76b7ae4",
   "metadata": {},
   "outputs": [
    {
     "name": "stdout",
     "output_type": "stream",
     "text": [
      "[[ 1  2  3  4  5  6]\n",
      " [ 7  8  9 10 11 12]] 的形状为 (2, 6)\n",
      "[[ 1  2  3  4]\n",
      " [ 5  6  7  8]\n",
      " [ 9 10 11 12]] 的形状为 (3, 4)\n"
     ]
    }
   ],
   "source": [
    "# 修改形状但是必须保证修改后的元素总个数和原来一样\n",
    "ff = f.reshape(2,6)\n",
    "print('{} 的形状为 {}'.format(ff, ff.shape))\n",
    "\n",
    "fff = f.reshape(3,-1)  # 指定一个，另一个自动计算\n",
    "print('{} 的形状为 {}'.format(fff, fff.shape))"
   ]
  },
  {
   "cell_type": "markdown",
   "id": "d5199b53",
   "metadata": {},
   "source": [
    "### 矩阵元素存取"
   ]
  },
  {
   "cell_type": "code",
   "execution_count": 9,
   "id": "a5bf023c",
   "metadata": {},
   "outputs": [
    {
     "name": "stdout",
     "output_type": "stream",
     "text": [
      "[[ 1  2  3  4]\n",
      " [ 5  6  7  8]\n",
      " [ 9 10 11 12]]\n"
     ]
    }
   ],
   "source": [
    "print(fff)"
   ]
  },
  {
   "cell_type": "code",
   "execution_count": 10,
   "id": "0d286943",
   "metadata": {},
   "outputs": [
    {
     "name": "stdout",
     "output_type": "stream",
     "text": [
      "[1 2 3 4]\n"
     ]
    }
   ],
   "source": [
    "print(fff[0])  # 获取第一行"
   ]
  },
  {
   "cell_type": "code",
   "execution_count": 11,
   "id": "2a7e08a9",
   "metadata": {},
   "outputs": [
    {
     "name": "stdout",
     "output_type": "stream",
     "text": [
      "[[1 2 3 4]\n",
      " [5 6 7 8]]\n"
     ]
    }
   ],
   "source": [
    "print(fff[0:2])  # 获取 1～2 行 (0～1 前闭后开)"
   ]
  },
  {
   "cell_type": "code",
   "execution_count": 12,
   "id": "a2e3d22f",
   "metadata": {},
   "outputs": [
    {
     "name": "stdout",
     "output_type": "stream",
     "text": [
      "[[ 1  2  3  4]\n",
      " [ 9 10 11 12]]\n"
     ]
    }
   ],
   "source": [
    "print(fff[[0,2]])  # 获取 1 和 3 行"
   ]
  },
  {
   "cell_type": "code",
   "execution_count": 13,
   "id": "f49ba027",
   "metadata": {},
   "outputs": [
    {
     "name": "stdout",
     "output_type": "stream",
     "text": [
      "[ 2  6 10]\n"
     ]
    }
   ],
   "source": [
    "print(fff[:,1])  # 获取第 2 列"
   ]
  },
  {
   "cell_type": "code",
   "execution_count": 14,
   "id": "5a133719",
   "metadata": {},
   "outputs": [
    {
     "name": "stdout",
     "output_type": "stream",
     "text": [
      "[[ 2  3]\n",
      " [ 6  7]\n",
      " [10 11]]\n"
     ]
    }
   ],
   "source": [
    "print(fff[:,1:3])  # 获取 2～3 列 (2~4 前闭后开)"
   ]
  },
  {
   "cell_type": "code",
   "execution_count": 15,
   "id": "4fb8f871",
   "metadata": {},
   "outputs": [
    {
     "name": "stdout",
     "output_type": "stream",
     "text": [
      "[[ 2  4]\n",
      " [ 6  8]\n",
      " [10 12]]\n"
     ]
    }
   ],
   "source": [
    "print(fff[:,[1,3]])  # 获取第 2 列和第 4 列"
   ]
  },
  {
   "cell_type": "code",
   "execution_count": 16,
   "id": "957a8633",
   "metadata": {},
   "outputs": [
    {
     "name": "stdout",
     "output_type": "stream",
     "text": [
      "8\n",
      "[[  1   2   3   4]\n",
      " [  5   6   7 100]\n",
      " [  9  10  11  12]]\n"
     ]
    }
   ],
   "source": [
    "print(fff[1,3])  # 获取第 2 行第 4 列的元素\n",
    "\n",
    "# 修改\n",
    "fff[1,3] = 100\n",
    "print(fff)"
   ]
  },
  {
   "cell_type": "markdown",
   "id": "22bc2e79",
   "metadata": {},
   "source": [
    "## 特殊矩阵"
   ]
  },
  {
   "cell_type": "markdown",
   "id": "d9249d9d",
   "metadata": {},
   "source": [
    "### 零数组"
   ]
  },
  {
   "cell_type": "code",
   "execution_count": 17,
   "id": "78559947",
   "metadata": {},
   "outputs": [
    {
     "name": "stdout",
     "output_type": "stream",
     "text": [
      "[0. 0. 0. 0.]\n",
      "(4,)\n"
     ]
    }
   ],
   "source": [
    "a = np.zeros(4)\n",
    "print(a)\n",
    "print(a.shape)"
   ]
  },
  {
   "cell_type": "markdown",
   "id": "b452091b",
   "metadata": {},
   "source": [
    "### 零矩阵"
   ]
  },
  {
   "cell_type": "code",
   "execution_count": 18,
   "id": "78d0c7b2",
   "metadata": {},
   "outputs": [
    {
     "name": "stdout",
     "output_type": "stream",
     "text": [
      "[[0. 0. 0. 0.]\n",
      " [0. 0. 0. 0.]\n",
      " [0. 0. 0. 0.]]\n",
      "(3, 4)\n"
     ]
    }
   ],
   "source": [
    "b = np.zeros((3,4))\n",
    "print(b)\n",
    "print(b.shape)"
   ]
  },
  {
   "cell_type": "markdown",
   "id": "7146ada3",
   "metadata": {},
   "source": [
    "### 零向量"
   ]
  },
  {
   "cell_type": "code",
   "execution_count": 19,
   "id": "7b099733",
   "metadata": {
    "scrolled": true
   },
   "outputs": [
    {
     "name": "stdout",
     "output_type": "stream",
     "text": [
      "[[0. 0. 0. 0. 0. 0. 0. 0. 0. 0.]]\n",
      "(1, 10)\n",
      "[[0.]\n",
      " [0.]\n",
      " [0.]\n",
      " [0.]\n",
      " [0.]\n",
      " [0.]\n",
      " [0.]\n",
      " [0.]\n",
      " [0.]\n",
      " [0.]]\n",
      "(10, 1)\n"
     ]
    }
   ],
   "source": [
    "c = np.array([np.zeros(10)])  # 行向量\n",
    "print(c)\n",
    "print(c.shape)\n",
    "\n",
    "d = c.reshape((10,-1))  # 转列向量\n",
    "print(d)\n",
    "print(d.shape)"
   ]
  },
  {
   "cell_type": "markdown",
   "id": "9a507ec4",
   "metadata": {},
   "source": [
    "### 方阵"
   ]
  },
  {
   "cell_type": "code",
   "execution_count": 20,
   "id": "ee9f335b",
   "metadata": {},
   "outputs": [
    {
     "name": "stdout",
     "output_type": "stream",
     "text": [
      "[[15  4  4]\n",
      " [11 28 14]\n",
      " [27 25 23]]\n",
      "(3, 3)\n"
     ]
    }
   ],
   "source": [
    "# 行列数相等的矩阵\n",
    "e = np.random.randint(1, 32, size=[3,3])\n",
    "print(e)\n",
    "print(e.shape)"
   ]
  },
  {
   "cell_type": "markdown",
   "id": "caffe216",
   "metadata": {},
   "source": [
    "### 单位矩阵"
   ]
  },
  {
   "cell_type": "code",
   "execution_count": 21,
   "id": "82956f81",
   "metadata": {},
   "outputs": [
    {
     "name": "stdout",
     "output_type": "stream",
     "text": [
      "[[1. 0. 0. 0.]\n",
      " [0. 1. 0. 0.]\n",
      " [0. 0. 1. 0.]\n",
      " [0. 0. 0. 1.]]\n",
      "(4, 4)\n"
     ]
    }
   ],
   "source": [
    "E = np.eye(4)\n",
    "print(E)\n",
    "print(E.shape)"
   ]
  },
  {
   "cell_type": "code",
   "execution_count": 22,
   "id": "3bbf9858",
   "metadata": {},
   "outputs": [
    {
     "name": "stdout",
     "output_type": "stream",
     "text": [
      "[[1. 0. 0.]\n",
      " [0. 1. 0.]\n",
      " [0. 0. 1.]]\n",
      "(3, 3)\n"
     ]
    }
   ],
   "source": [
    "I = np.identity(3)\n",
    "print(I)\n",
    "print(I.shape)"
   ]
  },
  {
   "cell_type": "markdown",
   "id": "ab8356dd",
   "metadata": {},
   "source": [
    "### 对角矩阵"
   ]
  },
  {
   "cell_type": "code",
   "execution_count": 23,
   "id": "8b984fe6",
   "metadata": {
    "scrolled": true
   },
   "outputs": [
    {
     "name": "stdout",
     "output_type": "stream",
     "text": [
      "[[1 0 0]\n",
      " [0 2 0]\n",
      " [0 0 3]]\n",
      "(3, 3)\n",
      "\n",
      "获取对角矩阵的元素:\n",
      "[1 2 3]\n",
      "(3,)\n"
     ]
    }
   ],
   "source": [
    "F = [1,2,3]\n",
    "f = np.diag(F)  # 创建对角矩阵\n",
    "\n",
    "print(f)\n",
    "print(f.shape)\n",
    "\n",
    "print('\\n获取对角矩阵的元素:')\n",
    "ff = np.diag(f)\n",
    "print(ff)\n",
    "print(ff.shape)"
   ]
  },
  {
   "cell_type": "markdown",
   "id": "f8643974",
   "metadata": {},
   "source": [
    "### 上三角矩阵"
   ]
  },
  {
   "cell_type": "code",
   "execution_count": 24,
   "id": "c03fcc47",
   "metadata": {},
   "outputs": [],
   "source": [
    "g = np.array([[1,2,3,4],[5,6,7,8],[9,10,11,12],[13,14,15,16]])"
   ]
  },
  {
   "cell_type": "code",
   "execution_count": 25,
   "id": "ae345a82",
   "metadata": {},
   "outputs": [
    {
     "name": "stdout",
     "output_type": "stream",
     "text": [
      "[[ 1  2  3  4]\n",
      " [ 0  6  7  8]\n",
      " [ 0  0 11 12]\n",
      " [ 0  0  0 16]]\n"
     ]
    }
   ],
   "source": [
    "gg = np.triu(g, 0)\n",
    "print(gg)"
   ]
  },
  {
   "cell_type": "code",
   "execution_count": 26,
   "id": "f4c67cd8",
   "metadata": {},
   "outputs": [
    {
     "name": "stdout",
     "output_type": "stream",
     "text": [
      "[[ 0  2  3  4]\n",
      " [ 0  0  7  8]\n",
      " [ 0  0  0 12]\n",
      " [ 0  0  0  0]]\n"
     ]
    }
   ],
   "source": [
    "gg = np.triu(g, 1)  # 对角线向上偏移\n",
    "print(gg)"
   ]
  },
  {
   "cell_type": "markdown",
   "id": "cc90a92e",
   "metadata": {},
   "source": [
    "### 下三角矩阵"
   ]
  },
  {
   "cell_type": "code",
   "execution_count": 27,
   "id": "dd5d9d18",
   "metadata": {},
   "outputs": [
    {
     "name": "stdout",
     "output_type": "stream",
     "text": [
      "[[ 1  0  0  0]\n",
      " [ 5  6  0  0]\n",
      " [ 9 10 11  0]\n",
      " [13 14 15 16]]\n"
     ]
    }
   ],
   "source": [
    "gg = np.tril(g, 0)\n",
    "print(gg)"
   ]
  },
  {
   "cell_type": "code",
   "execution_count": 28,
   "id": "30c95017",
   "metadata": {
    "scrolled": true
   },
   "outputs": [
    {
     "name": "stdout",
     "output_type": "stream",
     "text": [
      "[[ 1  2  0  0]\n",
      " [ 5  6  7  0]\n",
      " [ 9 10 11 12]\n",
      " [13 14 15 16]]\n"
     ]
    }
   ],
   "source": [
    "gg = np.tril(g, 1)\n",
    "print(gg)"
   ]
  },
  {
   "cell_type": "markdown",
   "id": "4d287573",
   "metadata": {},
   "source": [
    "### 对称矩阵"
   ]
  },
  {
   "cell_type": "markdown",
   "id": "b3a91410",
   "metadata": {},
   "source": [
    "矩阵元素关于主对角线对称，如：  \n",
    "$$\\left[\n",
    "\\begin{matrix}\n",
    "    1 & 2 & 3 \\\\\n",
    "    2 & 5 & 6 \\\\\n",
    "    3 & 6 & 9\n",
    "\\end{matrix}\n",
    "\\right]$$"
   ]
  },
  {
   "cell_type": "markdown",
   "id": "ede46395",
   "metadata": {},
   "source": [
    "### 同型矩阵"
   ]
  },
  {
   "cell_type": "markdown",
   "id": "ffea186f",
   "metadata": {},
   "source": [
    "行列数相同的两个矩阵。"
   ]
  },
  {
   "cell_type": "code",
   "execution_count": 29,
   "id": "2da90cc6",
   "metadata": {},
   "outputs": [
    {
     "name": "stdout",
     "output_type": "stream",
     "text": [
      "[[3 3 0]\n",
      " [3 1 1]]\n",
      "(2, 3)\n",
      "[[1 0 1]\n",
      " [0 0 4]]\n",
      "(2, 3)\n",
      "a 和 b 为同型矩阵\n"
     ]
    }
   ],
   "source": [
    "a = np.random.randint(0, 5, (2,3))\n",
    "b = np.random.randint(0, 5, (2,3))\n",
    "\n",
    "print(a)\n",
    "print(a.shape)\n",
    "print(b)\n",
    "print(b.shape)\n",
    "\n",
    "if a.shape == b.shape:\n",
    "    print('a 和 b 为同型矩阵')"
   ]
  },
  {
   "cell_type": "markdown",
   "id": "9ac72b1a",
   "metadata": {},
   "source": [
    "### 矩阵相等"
   ]
  },
  {
   "cell_type": "code",
   "execution_count": 30,
   "id": "b798f857",
   "metadata": {},
   "outputs": [
    {
     "name": "stdout",
     "output_type": "stream",
     "text": [
      "a 和 b 是否相等：True\n",
      "a 和 c 是否相等：False\n"
     ]
    }
   ],
   "source": [
    "a = np.array([[1,2,3],[4,5,6]])\n",
    "b = np.array([[1,2,3],[4,5,6]])\n",
    "c = np.array([[6,2,3],[4,5,6]])\n",
    "\n",
    "print('a 和 b 是否相等：{}'.format(np.allclose(a, b)))\n",
    "print('a 和 c 是否相等：{}'.format(np.allclose(a, c)))"
   ]
  },
  {
   "cell_type": "markdown",
   "id": "0b9c40fc",
   "metadata": {},
   "source": [
    "## 矩阵基本运算"
   ]
  },
  {
   "cell_type": "markdown",
   "id": "ab885278",
   "metadata": {},
   "source": [
    "### 加减"
   ]
  },
  {
   "cell_type": "code",
   "execution_count": 31,
   "id": "fdef0707",
   "metadata": {},
   "outputs": [
    {
     "name": "stdout",
     "output_type": "stream",
     "text": [
      "[[1 7 9]\n",
      " [9 1 2]\n",
      " [5 2 3]]\n",
      "[[4 6 9]\n",
      " [6 2 1]\n",
      " [2 8 0]]\n"
     ]
    }
   ],
   "source": [
    "a = np.random.randint(0, 10, (3,3))\n",
    "b = np.random.randint(0, 10, (3,3))\n",
    "\n",
    "print(a)\n",
    "print(b)"
   ]
  },
  {
   "cell_type": "code",
   "execution_count": 32,
   "id": "e9390357",
   "metadata": {},
   "outputs": [
    {
     "name": "stdout",
     "output_type": "stream",
     "text": [
      "[[ 5 13 18]\n",
      " [15  3  3]\n",
      " [ 7 10  3]]\n"
     ]
    }
   ],
   "source": [
    "print(a + b)"
   ]
  },
  {
   "cell_type": "code",
   "execution_count": 33,
   "id": "29514a38",
   "metadata": {},
   "outputs": [
    {
     "name": "stdout",
     "output_type": "stream",
     "text": [
      "[[-3  1  0]\n",
      " [ 3 -1  1]\n",
      " [ 3 -6  3]]\n"
     ]
    }
   ],
   "source": [
    "print(a - b)"
   ]
  },
  {
   "cell_type": "markdown",
   "id": "a9265cf6",
   "metadata": {},
   "source": [
    "### 数乘"
   ]
  },
  {
   "cell_type": "code",
   "execution_count": 34,
   "id": "880bd7bf",
   "metadata": {},
   "outputs": [
    {
     "name": "stdout",
     "output_type": "stream",
     "text": [
      "[[ 2 14 18]\n",
      " [18  2  4]\n",
      " [10  4  6]]\n"
     ]
    }
   ],
   "source": [
    "print(2 * a)"
   ]
  },
  {
   "cell_type": "markdown",
   "id": "fee296b1",
   "metadata": {},
   "source": [
    "### 乘法"
   ]
  },
  {
   "cell_type": "markdown",
   "id": "076c6b46",
   "metadata": {},
   "source": [
    "前矩阵列数需要等于后矩阵的行数"
   ]
  },
  {
   "cell_type": "markdown",
   "id": "af120145",
   "metadata": {},
   "source": [
    "性质：  \n",
    "1.不满足交换律；  \n",
    "2.(AB)C=A(BC)  \n",
    "3.A(B+C)=AB+AC  \n",
    "4.(B+C)A=BA+CA  \n",
    "5.$\\lambda$AB=($\\lambda$A)B=A($\\lambda$B)"
   ]
  },
  {
   "cell_type": "markdown",
   "id": "f9ca5950",
   "metadata": {},
   "source": [
    "$\\left[\n",
    "\\begin{matrix}\n",
    "1 & 2 & 3 \\\\\n",
    "4 & 5 & 6\n",
    "\\end{matrix}\n",
    "\\right]$\n",
    "$\\left[\n",
    "\\begin{matrix}\n",
    "1 & 2 \\\\\n",
    "3 & 4 \\\\\n",
    "5 & 6\n",
    "\\end{matrix}\n",
    "\\right]$\n",
    "=\n",
    "$\\left[\n",
    "\\begin{matrix}\n",
    "1x1+2x3+3x5 & 1x2+2x4+3x6 \\\\\n",
    "4x1+5x3+6x5 & 4x2+5x4+6x6\n",
    "\\end{matrix}\n",
    "\\right]$\n",
    "=\n",
    "$\\left[\n",
    "\\begin{matrix}\n",
    "22 & 28 \\\\\n",
    "49 & 64\n",
    "\\end{matrix}\n",
    "\\right]$"
   ]
  },
  {
   "cell_type": "code",
   "execution_count": 35,
   "id": "a39c772c",
   "metadata": {
    "scrolled": true
   },
   "outputs": [
    {
     "name": "stdout",
     "output_type": "stream",
     "text": [
      "[[22 28]\n",
      " [49 64]]\n"
     ]
    }
   ],
   "source": [
    "a = np.array([[1,2,3],[4,5,6]])\n",
    "b = np.array([[1,2],[3,4],[5,6]])\n",
    "print(np.dot(a, b))"
   ]
  },
  {
   "cell_type": "code",
   "execution_count": 36,
   "id": "fa621a54",
   "metadata": {},
   "outputs": [
    {
     "name": "stdout",
     "output_type": "stream",
     "text": [
      "[[22 28]\n",
      " [49 64]]\n",
      "[[22 28]\n",
      " [49 64]]\n"
     ]
    }
   ],
   "source": [
    "a = np.mat([[1,2,3],[4,5,6]])\n",
    "b = np.mat([[1,2],[3,4],[5,6]])\n",
    "\n",
    "print(a * b)\n",
    "print(np.dot(a, b))"
   ]
  },
  {
   "cell_type": "markdown",
   "id": "6924a2bf",
   "metadata": {},
   "source": [
    "### 同型矩阵对应相乘"
   ]
  },
  {
   "cell_type": "code",
   "execution_count": 37,
   "id": "be2d7abf",
   "metadata": {
    "scrolled": true
   },
   "outputs": [
    {
     "name": "stdout",
     "output_type": "stream",
     "text": [
      "[[4 6]\n",
      " [6 4]]\n",
      "[[4 6]\n",
      " [6 4]]\n"
     ]
    }
   ],
   "source": [
    "a = np.array([[1,2],[3,4]])\n",
    "b = np.array([[4,3],[2,1]])\n",
    "\n",
    "print(a * b)\n",
    "print(np.multiply(a, b))"
   ]
  },
  {
   "cell_type": "markdown",
   "id": "a41abeef",
   "metadata": {},
   "source": [
    "### 乘方"
   ]
  },
  {
   "cell_type": "code",
   "execution_count": 38,
   "id": "ed8a9408",
   "metadata": {
    "scrolled": true
   },
   "outputs": [
    {
     "name": "stdout",
     "output_type": "stream",
     "text": [
      "[[ 37  54]\n",
      " [ 81 118]]\n"
     ]
    }
   ],
   "source": [
    "a = np.array([[1,2],[3,4]])\n",
    "print(a.dot(a).dot(a))  # a^3"
   ]
  },
  {
   "cell_type": "code",
   "execution_count": 39,
   "id": "8aa7fbcd",
   "metadata": {
    "scrolled": true
   },
   "outputs": [
    {
     "name": "stdout",
     "output_type": "stream",
     "text": [
      "[[ 37  54]\n",
      " [ 81 118]]\n"
     ]
    }
   ],
   "source": [
    "b = np.mat([[1,2],[3,4]])\n",
    "print(b ** 3)"
   ]
  },
  {
   "cell_type": "markdown",
   "id": "a24369f3",
   "metadata": {},
   "source": [
    "若 AB $\\neq$ BA，有：  \n",
    "$$(A+B)^2=A^2+AB+BA+B^2\\neq A^2+2AB+B^2$$\n",
    "$$(A+B)(A-B)=A^2-AB+BA-B^2\\neq A^2-B^2$$\n",
    "$$(A\\times B)^2=(AB)(AB)\\neq A^2B^2 $$"
   ]
  },
  {
   "cell_type": "markdown",
   "id": "a78f92a4",
   "metadata": {},
   "source": [
    "$\n",
    "A=\n",
    "\\left[\n",
    "\\begin{matrix}\n",
    "1 & 2 \\\\\n",
    "3 & 4\n",
    "\\end{matrix}\n",
    "\\right]\n",
    ", B=\n",
    "\\left[\n",
    "\\begin{matrix}\n",
    "1 & 0 \\\\\n",
    "2 & 3\n",
    "\\end{matrix}\n",
    "\\right]\n",
    "$"
   ]
  },
  {
   "cell_type": "code",
   "execution_count": 40,
   "id": "73c0cfff",
   "metadata": {},
   "outputs": [
    {
     "name": "stdout",
     "output_type": "stream",
     "text": [
      "(A+B)^2=\n",
      "[[14 18]\n",
      " [45 59]]\n",
      "A^2+AB+BA+B^2=\n",
      "[[14 18]\n",
      " [45 59]]\n",
      "A^2+2AB+B^2=\n",
      "[[18 22]\n",
      " [45 55]]\n",
      "\n",
      "(A+B)(A-B)=\n",
      "[[ 2  6]\n",
      " [ 7 17]]\n",
      "A^2-AB+BA-B^2=\n",
      "[[ 2  6]\n",
      " [ 7 17]]\n",
      "A^2-B^2=\n",
      "[[ 6 10]\n",
      " [ 7 13]]\n",
      "\n",
      "(AxB)^2=\n",
      "[[ 91 102]\n",
      " [187 210]]\n",
      "(AB)(AB)=\n",
      "[[ 91 102]\n",
      " [187 210]]\n",
      "A^2B^2=\n",
      "[[ 87  90]\n",
      " [191 198]]\n"
     ]
    }
   ],
   "source": [
    "A = np.array([[1,2],[3,4]])\n",
    "B = np.array([[1,0],[2,3]])\n",
    "\n",
    "print('(A+B)^2=\\n%s' %(A + B).dot(A + B))\n",
    "print('A^2+AB+BA+B^2=\\n%s' %(A.dot(A) + A.dot(B) + B.dot(A) + B.dot(B)))\n",
    "print('A^2+2AB+B^2=\\n%s\\n' %(A.dot(A) + 2 * A.dot(B) + B.dot(B)))\n",
    "\n",
    "print('(A+B)(A-B)=\\n%s' %(A + B).dot(A - B))\n",
    "print('A^2-AB+BA-B^2=\\n%s' %(A.dot(A) - A.dot(B) + B.dot(A) - B.dot(B)))\n",
    "print('A^2-B^2=\\n%s\\n' %(A.dot(A) - B.dot(B)))\n",
    "\n",
    "print('(AxB)^2=\\n%s' %(A.dot(B).dot(A.dot(B))))\n",
    "print('(AB)(AB)=\\n%s' %(A.dot(B).dot(A.dot(B))))\n",
    "print('A^2B^2=\\n%s' %(A.dot(A).dot(B.dot(B))))"
   ]
  },
  {
   "cell_type": "markdown",
   "id": "e291d3b7",
   "metadata": {},
   "source": [
    "### 转置矩阵"
   ]
  },
  {
   "cell_type": "markdown",
   "id": "96c7d778",
   "metadata": {},
   "source": [
    "性质：  \n",
    "$(A^T)^T=A$  \n",
    "$(A+B)^T=A^T+b^T$  \n",
    "$(\\lambda A)^T=\\lambda A^T$  \n",
    "$(AB)^T=B^TA^T$  \n",
    "$(A_1A_2...A_n)^T=A_n^T...A_2^TA_1^T$"
   ]
  },
  {
   "cell_type": "code",
   "execution_count": 41,
   "id": "4b445cf5",
   "metadata": {
    "scrolled": false
   },
   "outputs": [
    {
     "name": "stdout",
     "output_type": "stream",
     "text": [
      "[[ 1  2  3  4]\n",
      " [ 5  6  7  8]\n",
      " [ 9 10 11 12]]\n",
      "[[ 1  5  9]\n",
      " [ 2  6 10]\n",
      " [ 3  7 11]\n",
      " [ 4  8 12]]\n",
      "[[ 1  5  9]\n",
      " [ 2  6 10]\n",
      " [ 3  7 11]\n",
      " [ 4  8 12]]\n"
     ]
    }
   ],
   "source": [
    "a = np.array([[1,2,3,4],[5,6,7,8],[9,10,11,12]])\n",
    "print(a)\n",
    "print(a.transpose())\n",
    "print(a.T)"
   ]
  },
  {
   "cell_type": "code",
   "execution_count": 42,
   "id": "6bb76053",
   "metadata": {},
   "outputs": [
    {
     "name": "stdout",
     "output_type": "stream",
     "text": [
      "[[6 5 9]\n",
      " [1 3 7]\n",
      " [4 2 4]]\n",
      "[[6 5 9]\n",
      " [0 3 7]\n",
      " [0 0 4]]\n",
      "[[6 0 0]\n",
      " [5 3 0]\n",
      " [9 7 4]]\n",
      "[[6 5 9]\n",
      " [5 3 7]\n",
      " [9 7 4]]\n"
     ]
    }
   ],
   "source": [
    "# 对称矩阵创建\n",
    "\n",
    "a = np.random.randint(0, 10, (3,3))  # 随机生成矩阵\n",
    "print(a)\n",
    "b = np.triu(a)  # 上三角\n",
    "print(b)\n",
    "c = b.transpose()  # 上三角的逆矩阵\n",
    "print(c)\n",
    "d = b + c - np.diag(np.diag(a))\n",
    "print(d)"
   ]
  },
  {
   "cell_type": "markdown",
   "id": "1391cd86",
   "metadata": {},
   "source": [
    "### 逆矩阵"
   ]
  },
  {
   "cell_type": "markdown",
   "id": "a61ec2be",
   "metadata": {},
   "source": [
    "$对于 n 阶方阵，若存在 n 阶方阵 \\mathrm{B}，使得：\\mathrm{AB=BA=E}（单位矩阵），记作：\\mathrm{B=A}^{-1}，\\mathrm{A=B}^{-1}。若 \\mathrm{A} 可逆，则其逆矩阵唯一。$"
   ]
  },
  {
   "cell_type": "markdown",
   "id": "e8bd4bec",
   "metadata": {},
   "source": [
    "不是所有方阵都有逆矩阵，没有逆矩阵的方阵称为奇异矩阵或不可逆矩阵，有逆矩阵的方阵称为非奇异矩阵或可逆矩阵。注意可逆矩阵只能用于方阵。"
   ]
  },
  {
   "cell_type": "markdown",
   "id": "0a2b78e4",
   "metadata": {},
   "source": [
    "性质：  \n",
    "$(A^{-1})^{-1}=A$  \n",
    "$(A^T)^{-1}=(A^{-1})^T$  \n",
    "$(\\lambda A)^{-1}=\\frac{1}{\\lambda}A^{-1},\\lambda \\neq 0$  \n",
    "$(AB)^{-1}=B^{-1}A^{-1}$  "
   ]
  },
  {
   "cell_type": "markdown",
   "id": "954edff1",
   "metadata": {},
   "source": [
    "如：\n",
    "$\\left[\n",
    "\\begin{matrix}\n",
    "1 & 2 \\\\\n",
    "2 & 5\n",
    "\\end{matrix}\n",
    "\\right]$\n",
    "$\\left[\n",
    "\\begin{matrix}\n",
    "5 & -2 \\\\\n",
    "-2 & 1\n",
    "\\end{matrix}\n",
    "\\right]$\n",
    "=\n",
    "$\\left[\n",
    "\\begin{matrix}\n",
    "1 & 0 \\\\\n",
    "0 & 1\n",
    "\\end{matrix}\n",
    "\\right]$\n",
    "，且\n",
    "$\\left[\n",
    "\\begin{matrix}\n",
    "5 & -2 \\\\\n",
    "-2 & 1\n",
    "\\end{matrix}\n",
    "\\right]$\n",
    "$\\left[\n",
    "\\begin{matrix}\n",
    "1 & 2 \\\\\n",
    "2 & 5\n",
    "\\end{matrix}\n",
    "\\right]$\n",
    "=\n",
    "$\\left[\n",
    "\\begin{matrix}\n",
    "1 & 0 \\\\\n",
    "0 & 1\n",
    "\\end{matrix}\n",
    "\\right]$\n",
    "，则两个矩阵互为逆矩阵。"
   ]
  },
  {
   "cell_type": "code",
   "execution_count": 43,
   "id": "4685929e",
   "metadata": {
    "scrolled": true
   },
   "outputs": [
    {
     "name": "stdout",
     "output_type": "stream",
     "text": [
      "[[ 5. -2.]\n",
      " [-2.  1.]]\n"
     ]
    }
   ],
   "source": [
    "a = np.array([[1,2],[2,5]])\n",
    "\n",
    "print(np.linalg.inv(a))"
   ]
  },
  {
   "cell_type": "code",
   "execution_count": 44,
   "id": "0d22bb80",
   "metadata": {},
   "outputs": [
    {
     "name": "stdout",
     "output_type": "stream",
     "text": [
      "[[ 5. -2.]\n",
      " [-2.  1.]]\n",
      "[[ 5. -2.]\n",
      " [-2.  1.]]\n"
     ]
    }
   ],
   "source": [
    "b = np.mat([[1,2],[2,5]])\n",
    "\n",
    "print(np.linalg.inv(b))\n",
    "print(b.I)"
   ]
  },
  {
   "cell_type": "code",
   "execution_count": 45,
   "id": "42159829",
   "metadata": {},
   "outputs": [
    {
     "name": "stdout",
     "output_type": "stream",
     "text": [
      "Singular matrix\n"
     ]
    }
   ],
   "source": [
    "# 奇异矩阵\n",
    "c = np.mat([[1,-4,0,2],[-1,2,-1,-1],[1,-2,3,5],[2,-6,1,3]])\n",
    "\n",
    "try:\n",
    "    c.I\n",
    "except Exception as result:\n",
    "    print(result)"
   ]
  },
  {
   "cell_type": "markdown",
   "id": "cdb20328",
   "metadata": {},
   "source": [
    "## 行列式"
   ]
  },
  {
   "cell_type": "markdown",
   "id": "d786d3a5",
   "metadata": {},
   "source": [
    "在线性代数中，行列式是基本的数学工具，有着重要的应用。行列式是一个算式，经过计算后就是数。行列式主要用于判断矩阵时候可逆及计算特征方程。"
   ]
  },
  {
   "cell_type": "markdown",
   "id": "d359dcd3",
   "metadata": {},
   "source": [
    "我的理解中可以看作是行列数相同的矩阵。"
   ]
  },
  {
   "cell_type": "markdown",
   "id": "2def4baa",
   "metadata": {},
   "source": [
    "计算\n",
    "$\\mathrm{A}$\n",
    "=\n",
    "$\\left|\n",
    "\\begin{matrix}\n",
    "1 & -2 & 3 \\\\\n",
    "-1 & 2 & 1 \\\\\n",
    "-3 & -4 & -2\n",
    "\\end{matrix}\n",
    "\\right|$\n",
    "的值。"
   ]
  },
  {
   "cell_type": "code",
   "execution_count": 46,
   "id": "9a6df21b",
   "metadata": {
    "scrolled": true
   },
   "outputs": [
    {
     "name": "stdout",
     "output_type": "stream",
     "text": [
      "40.000000000000014\n"
     ]
    }
   ],
   "source": [
    "A = np.array([[1,-2,3],[-1,2,1],[-3,-4,-2]])\n",
    "print(np.linalg.det(A))"
   ]
  },
  {
   "cell_type": "markdown",
   "id": "0aa5deac",
   "metadata": {},
   "source": [
    "## 矩阵的秩"
   ]
  },
  {
   "cell_type": "markdown",
   "id": "a537e49e",
   "metadata": {},
   "source": [
    "### 线性相关与线性无关"
   ]
  },
  {
   "cell_type": "markdown",
   "id": "2ec5efdd",
   "metadata": {},
   "source": [
    "如：在矩阵\n",
    "$\\mathrm{A}=\n",
    "\\left[\n",
    "\\begin{matrix}\n",
    "1 & 2 & -1 \\\\\n",
    "3 & 2 & 5 \\\\\n",
    "5 & 6 & 3\n",
    "\\end{matrix}\n",
    "\\right]$\n",
    "中选取向量组\n",
    "$k_1=\n",
    "\\left[\n",
    "\\begin{matrix}\n",
    "1 \\\\\n",
    "3 \\\\\n",
    "5\n",
    "\\end{matrix}\n",
    "\\right]$\n",
    ",\n",
    "$k_2=\n",
    "\\left[\n",
    "\\begin{matrix}\n",
    "2 \\\\\n",
    "2 \\\\\n",
    "6\n",
    "\\end{matrix}\n",
    "\\right]$\n",
    "，设\n",
    "$k_1\n",
    "\\left[\n",
    "\\begin{matrix}\n",
    "1 \\\\\n",
    "3 \\\\\n",
    "5\n",
    "\\end{matrix}\n",
    "\\right]\n",
    "+k_2\n",
    "\\left[\n",
    "\\begin{matrix}\n",
    "2 \\\\\n",
    "2 \\\\\n",
    "6\n",
    "\\end{matrix}\n",
    "\\right]\n",
    "=\n",
    "\\left[\n",
    "\\begin{matrix}\n",
    "0 \\\\\n",
    "0 \\\\\n",
    "0\n",
    "\\end{matrix}\n",
    "\\right]$  \n",
    "通过计算，$k_1=k_2=0$ 时，上式才能成立，所以，这两个向量构成的向量组是线性无关的（一个向量不能用另外一个向量表示）。  \n",
    "若选取向量组\n",
    "$k_1=\n",
    "\\left[\n",
    "\\begin{matrix}\n",
    "1 \\\\\n",
    "3 \\\\\n",
    "5\n",
    "\\end{matrix}\n",
    "\\right]\n",
    ",k_2=\n",
    "\\left[\n",
    "\\begin{matrix}\n",
    "2 \\\\\n",
    "2 \\\\\n",
    "6\n",
    "\\end{matrix}\n",
    "\\right]\n",
    ",k_3=\n",
    "\\left[\n",
    "\\begin{matrix}\n",
    "-1 \\\\\n",
    "5 \\\\\n",
    "3\n",
    "\\end{matrix}\n",
    "\\right]\n",
    "$\n",
    "，当满足\n",
    "$k_1\n",
    "\\left[\n",
    "\\begin{matrix}\n",
    "1 \\\\\n",
    "3 \\\\\n",
    "5\n",
    "\\end{matrix}\n",
    "\\right]\n",
    "+k_2\n",
    "\\left[\n",
    "\\begin{matrix}\n",
    "2 \\\\\n",
    "2 \\\\\n",
    "6\n",
    "\\end{matrix}\n",
    "\\right]\n",
    "+k_3\n",
    "\\left[\n",
    "\\begin{matrix}\n",
    "-1 \\\\\n",
    "5 \\\\\n",
    "3\n",
    "\\end{matrix}\n",
    "\\right]\n",
    "=\n",
    "\\left[\n",
    "\\begin{matrix}\n",
    "0 \\\\\n",
    "0 \\\\\n",
    "0\n",
    "\\end{matrix}\n",
    "\\right]\n",
    "$\n",
    "时，  \n",
    "可以满足$k_1=3, k_2=-2, k_3=-1$，所以上述 3 个向量线性相关，一个向量可以用另外两个向量表示，  \n",
    "如\n",
    "$\\left[\n",
    "\\begin{matrix}\n",
    "-1 \\\\\n",
    "5 \\\\\n",
    "3\n",
    "\\end{matrix}\n",
    "\\right]\n",
    "=3x\n",
    "\\left[\n",
    "\\begin{matrix}\n",
    "1 \\\\\n",
    "3 \\\\\n",
    "5\n",
    "\\end{matrix}\n",
    "\\right]\n",
    "+(-2)x\n",
    "\\left[\n",
    "\\begin{matrix}\n",
    "2 \\\\\n",
    "2 \\\\\n",
    "6\n",
    "\\end{matrix}\n",
    "\\right]\n",
    "$\n",
    "。"
   ]
  },
  {
   "cell_type": "markdown",
   "id": "ca840115",
   "metadata": {},
   "source": [
    "### 矩阵的秩"
   ]
  },
  {
   "cell_type": "markdown",
   "id": "daab44e3",
   "metadata": {},
   "source": [
    "设矩阵 $\\mathrm{A}=(a_{ij}）_{mxn}$,在 $\\mathrm{A}$ 中任取 r 行 r 列交叉处元素，按相对位置组成 r 阶行列式 $(1\\leq r \\leq min\\{m，n\\})$，称 $\\mathrm{A}$ 的一个 r 阶子式。"
   ]
  },
  {
   "cell_type": "markdown",
   "id": "bb5af55d",
   "metadata": {},
   "source": [
    "设矩阵 $\\mathrm{A}=(a_{ij})_{mxn}$，有 r 阶式不为 0，任何 r+1 阶子式（如果存在的话）全为 0，则称 r 为矩阵的秩，记作 R($\\mathrm{A}$) 或秩($\\mathrm{A}$)。  \n",
    "矩阵的秩是唯一的，零矩阵的秩为 0，非零矩阵的秩大于等于 1。"
   ]
  },
  {
   "cell_type": "markdown",
   "id": "6bc6fdc5",
   "metadata": {},
   "source": [
    "如：\n",
    "$\\mathrm{A}=\n",
    "\\left[\n",
    "\\begin{matrix}\n",
    "-2 & 1 & 1 & 0 \\\\\n",
    "1 & -2 & 1 & 3 \\\\\n",
    "1 & 1 & -2 & -3\n",
    "\\end{matrix}\n",
    "\\right]\n",
    "$  \n",
    "$\n",
    "\\sim\n",
    "\\left[\n",
    "\\begin{matrix}\n",
    "0 & -3 & 3 & 6 \\\\\n",
    "1 & -2 & 1 & 3 \\\\\n",
    "0 & 3 & -3 & -6\n",
    "\\end{matrix}\n",
    "\\right]\n",
    "\\sim\n",
    "\\left[\n",
    "\\begin{matrix}\n",
    "1 & -2 & 1 & 3 \\\\\n",
    "0 & -3 & 3 & 6 \\\\\n",
    "0 & 0 & 0 & 0\n",
    "\\end{matrix}\n",
    "\\right]$\n",
    "，非全 0 行数为 2，R(A)=2"
   ]
  },
  {
   "cell_type": "code",
   "execution_count": 47,
   "id": "5a7cb60b",
   "metadata": {
    "scrolled": true
   },
   "outputs": [
    {
     "name": "stdout",
     "output_type": "stream",
     "text": [
      "A=[[-2  1  1  0]\n",
      " [ 1 -2  1  3]\n",
      " [ 1  1 -2 -3]]\n",
      "R(A)=2\n"
     ]
    }
   ],
   "source": [
    "A = np.array([[-2,1,1,0],[1,-2,1,3],[1,1,-2,-3]])\n",
    "print('A=%s' %A)\n",
    "print('R(A)=%d' %np.linalg.matrix_rank(A))"
   ]
  },
  {
   "cell_type": "markdown",
   "id": "8c4adafe",
   "metadata": {},
   "source": [
    "### 线性方程组的解"
   ]
  },
  {
   "cell_type": "markdown",
   "id": "064a4041",
   "metadata": {},
   "source": [
    "设有 n 个未知数 m 个方程的线性方程组  \n",
    "$\\left\\{\n",
    "\\begin{array}{lr}\n",
    "    a_{11}x_1+a_{12}x_2+...+a_{1n}n_n=b_1 \\\\\n",
    "    a_{21}x_1+a_{22}x_2+...+a_{2n}x_n=b_2 \\\\\n",
    "    ... \\\\\n",
    "    a_{m1}x_1+a_{m2}x_2+...+a_{mn}x_n=b_m\n",
    "\\end{array}\n",
    "\\right.$  \n",
    "可以写成以向量 x 为未知元的向量方程： $\\mathrm{A}x=\\mathrm{b}$  \n",
    "* 无解的充分必要条件是 $R(\\mathrm{A})<R(\\mathrm{A},\\mathrm{b})$ ；\n",
    "* 有无限多解的充分必要条件是 $R(\\mathrm{A})=R(\\mathrm{A},\\mathrm{b})<n$ ;\n",
    "* 有唯一解的充分必要条件是 $R(\\mathrm{A})=R(\\mathrm{A},\\mathrm{b})=n$ 。\n"
   ]
  },
  {
   "cell_type": "markdown",
   "id": "b64167f4",
   "metadata": {},
   "source": [
    "如：\n",
    "$\\left\\{\n",
    "\\begin{array}{lr}\n",
    "    x_2+x_3=0 \\\\\n",
    "    x_1+x_3=3 \\\\\n",
    "    x_1+x_2=-1\n",
    "\\end{array}\n",
    "\\right.$  \n",
    "对增广矩阵 $\\mathrm{B}=(\\mathrm{A},\\mathrm{b})$ 作初等行变换，有  \n",
    "$\\mathrm{B}=\n",
    "\\left[\n",
    "\\begin{matrix}\n",
    "    0 & 1 & 1 & 0 \\\\\n",
    "    1 & 0 & 1 & 3 \\\\\n",
    "    1 & 1 & 0 & -1\n",
    "\\end{matrix}\n",
    "\\right]\n",
    "\\sim\n",
    "\\left[\n",
    "\\begin{matrix}\n",
    "1 & 1 & 0 & -1 \\\\\n",
    "1 & 0 & 1 & 3 \\\\\n",
    "0 & 1 & 1 & 0\n",
    "\\end{matrix}\n",
    "\\right]\n",
    "\\sim\n",
    "\\left[\n",
    "\\begin{matrix}\n",
    "1 & 1 & 0 & -1 \\\\\n",
    "0 & -1 & 1 & 4 \\\\\n",
    "0 & 1 & 1 & 0\n",
    "\\end{matrix}\n",
    "\\right]\n",
    "\\sim\n",
    "\\left[\n",
    "\\begin{matrix}\n",
    "1 & 1 & 0 & -1 \\\\\n",
    "0 & -1 & 1 & 4 \\\\\n",
    "0 & 0 & 2 & 4\n",
    "\\end{matrix}\n",
    "\\right]$  \n",
    "可知 R($\\mathrm{A})=R(\\mathrm{A},\\mathrm{b})=3$ ,方程组有唯一解。"
   ]
  },
  {
   "cell_type": "markdown",
   "id": "dea5bdb9",
   "metadata": {},
   "source": [
    "如：\n",
    "$\\left\\{\n",
    "\\begin{array}{lr}\n",
    "    -2x_1+x_2+x_3=0 \\\\\n",
    "    x_1-2x_2+x_3=3 \\\\\n",
    "    x_1+x_2-2x_3=-3\n",
    "\\end{array}\n",
    "\\right.$  \n",
    "对增广矩阵 $\\mathrm{B}=(\\mathrm{A},\\mathrm{b})$ 作初等行变换，有  \n",
    "$\\mathrm{B}\\sim\n",
    "\\left[\n",
    "\\begin{matrix}\n",
    "    1 & 1 & 2 & -3 \\\\\n",
    "    0 & -3 & 3 & 6 \\\\\n",
    "    0 & 0 & 0 & 0\n",
    "\\end{matrix}\n",
    "\\right]\n",
    "\\sim\n",
    "\\left[\n",
    "\\begin{matrix}\n",
    "    1 & 0 & -1 & -1 \\\\\n",
    "    0 & 1 & -1 & -2 \\\\\n",
    "    0 & 0 & 0 & 0\n",
    "\\end{matrix}\n",
    "\\right]$\n",
    "可知 R($\\mathrm{A})=R(\\mathrm{A},\\mathrm{b})=2$ ,方程组有无限多解。  \n",
    "得通解：\n",
    "$\\left\\{\n",
    "\\begin{array}{lr}\n",
    "x_1=x_3-1 \\\\\n",
    "x_2=x_3-2\n",
    "\\end{array}\n",
    "\\right.$\n",
    "($x_3$ 可取任意值)，  \n",
    "即\n",
    "$\\left(\n",
    "\\begin{matrix}\n",
    "x_1 \\\\\n",
    "x_2 \\\\\n",
    "x_3\n",
    "\\end{matrix}\n",
    "\\right)\n",
    "=c\n",
    "\\left(\n",
    "\\begin{matrix}\n",
    "1 \\\\\n",
    "1 \\\\\n",
    "1 \\\\\n",
    "\\end{matrix}\n",
    "\\right)\n",
    "+\n",
    "\\left(\n",
    "\\begin{matrix}\n",
    "-1 \\\\\n",
    "-2 \\\\\n",
    "0\n",
    "\\end{matrix}\n",
    "\\right)\n",
    "，(c\\in \\mathrm{R})$"
   ]
  },
  {
   "cell_type": "markdown",
   "id": "6c2b0ee8",
   "metadata": {},
   "source": [
    "## 内积与正交"
   ]
  },
  {
   "cell_type": "markdown",
   "id": "69817c69",
   "metadata": {},
   "source": [
    "机器学习的许多算法都会用到内积的计算，内积可以用于判断两个向量时候正交，以及求向量间的距离等。"
   ]
  },
  {
   "cell_type": "markdown",
   "id": "4101f3e0",
   "metadata": {},
   "source": [
    "### 向量的内积"
   ]
  },
  {
   "cell_type": "markdown",
   "id": "2c10ba18",
   "metadata": {},
   "source": [
    "设有两个同型的 n 维列向量\n",
    "$\\mathrm{x}=\n",
    "\\left[\n",
    "\\begin{matrix}\n",
    "x_1 \\\\\n",
    "x_2 \\\\\n",
    ". \\\\\n",
    ". \\\\\n",
    ". \\\\\n",
    "x_n\n",
    "\\end{matrix}\n",
    "\\right]\n",
    "，y=\n",
    "\\left[\n",
    "\\begin{matrix}\n",
    "y_1 \\\\\n",
    "y_2 \\\\\n",
    ". \\\\\n",
    ". \\\\\n",
    ". \\\\\n",
    "y_n\n",
    "\\end{matrix}\n",
    "\\right]$\n",
    "，令$\\mathrm{[x,y]=x_1y_1+x_2y_2+...+x_ny_n}$，称 $\\mathrm{[x,y]}$ 为向量 $\\mathrm{x}$ 和向量 $\\mathrm{y}$ 的内积。内积也可以用 $\\mathrm{x\\cdot y}$ 表示。"
   ]
  },
  {
   "cell_type": "markdown",
   "id": "84787e91",
   "metadata": {},
   "source": [
    "内积可以用矩阵的乘法表示，\n",
    "$[x,y]=[x_1x_2...x_n]\n",
    "\\left[\n",
    "\\begin{matrix}\n",
    "y_1 \\\\\n",
    "y_2 \\\\\n",
    ". \\\\\n",
    ". \\\\\n",
    ". \\\\\n",
    "y_n\n",
    "\\end{matrix}\n",
    "\\right]\n",
    "=x^Ty$。"
   ]
  },
  {
   "cell_type": "markdown",
   "id": "b664f486",
   "metadata": {},
   "source": [
    "若 x,y 为 n 维行向量，\n",
    "$[x,y]=[x_1x_2...x_n]\n",
    "\\left[\n",
    "\\begin{matrix}\n",
    "y_1 \\\\\n",
    "y_2 \\\\\n",
    ". \\\\\n",
    ". \\\\\n",
    ". \\\\\n",
    "y_n\n",
    "\\end{matrix}\n",
    "\\right]\n",
    "=xy^T$。"
   ]
  },
  {
   "cell_type": "markdown",
   "id": "ce9c1697",
   "metadata": {},
   "source": [
    "性质：  \n",
    "对称性：[x,y]=[y,x]  \n",
    "线性性质：$[\\lambda x,y]=\\lambda[x.y], [x+y,z]=[x,z]+[y,z]$  \n",
    "当 x=0 时，[x,x]=0,当 x$\\neq$0 时，[x,x]>0"
   ]
  },
  {
   "cell_type": "markdown",
   "id": "5a983e38",
   "metadata": {},
   "source": [
    "示例：\n",
    "$a=\n",
    "\\left[\n",
    "\\begin{matrix}\n",
    "1 \\\\\n",
    "2 \\\\\n",
    "3\n",
    "\\end{matrix}\n",
    "\\right]\n",
    ",\n",
    "b=\\left[\n",
    "\\begin{matrix}\n",
    "4 \\\\\n",
    "5 \\\\\n",
    "6\n",
    "\\end{matrix}\n",
    "\\right]$  \n",
    "$[x,y]=x^Ty\n",
    "=\n",
    "\\left[\n",
    "\\begin{matrix}\n",
    "1 & 2 & 3\n",
    "\\end{matrix}\n",
    "\\right]\n",
    "\\left[\n",
    "\\begin{matrix}\n",
    "4 \\\\\n",
    "5 \\\\\n",
    "6\n",
    "\\end{matrix}\n",
    "\\right]\n",
    "=1\\times4+2\\times5+3\\times6=32$"
   ]
  },
  {
   "cell_type": "code",
   "execution_count": 48,
   "id": "229ec8e5",
   "metadata": {},
   "outputs": [
    {
     "name": "stdout",
     "output_type": "stream",
     "text": [
      "[a,b]=32\n",
      "[[ 4  5  6]\n",
      " [ 8 10 12]\n",
      " [12 15 18]]\n"
     ]
    }
   ],
   "source": [
    "# 矩阵表示向量时\n",
    "a = np.array([[1],[2],[3]])\n",
    "b = np.array([[4],[5],[6]])\n",
    "print('[a,b]=%d' %np.dot(a.T, b))\n",
    "print(np.inner(a,b))"
   ]
  },
  {
   "cell_type": "code",
   "execution_count": 49,
   "id": "24089bed",
   "metadata": {
    "scrolled": true
   },
   "outputs": [
    {
     "name": "stdout",
     "output_type": "stream",
     "text": [
      "32\n",
      "32\n"
     ]
    }
   ],
   "source": [
    "# 一维数组表示向量时\n",
    "c = np.array([1,2,3])\n",
    "d = np.array([4,5,6])\n",
    "print(np.dot(c, d))\n",
    "print(np.inner(c, d))"
   ]
  },
  {
   "cell_type": "markdown",
   "id": "c91cd21d",
   "metadata": {},
   "source": [
    "### 向量的长度"
   ]
  },
  {
   "cell_type": "markdown",
   "id": "df33d763",
   "metadata": {},
   "source": [
    "定义：$||x||=\\sqrt{[x,x]}=\\sqrt{x_1^2+x_2^2+...+x_n^2}$为 n 维向量 x 的长度，当 ||x||=1 时，称 x 为单位向量。"
   ]
  },
  {
   "cell_type": "markdown",
   "id": "8c543078",
   "metadata": {},
   "source": [
    "性质：  \n",
    "非负性：||x||$\\geq$0  \n",
    "齐次性：$||\\lambda x||=|\\lambda|\\cdot||x||$  \n",
    "三角不等式：||x+y||$\\leq$||x||+||y||"
   ]
  },
  {
   "cell_type": "code",
   "execution_count": 50,
   "id": "5092dd7a",
   "metadata": {},
   "outputs": [
    {
     "name": "stdout",
     "output_type": "stream",
     "text": [
      "[[0 3 4]]的长度为5.0,单位向量为[[0.  0.6 0.8]]\n"
     ]
    }
   ],
   "source": [
    "a = np.array([[0,3,4]])\n",
    "a_len = np.linalg.norm(a)\n",
    "print('{}的长度为{},单位向量为{}'.format(a, a_len, a / a_len))"
   ]
  },
  {
   "cell_type": "code",
   "execution_count": 51,
   "id": "87ce8f35",
   "metadata": {},
   "outputs": [
    {
     "name": "stdout",
     "output_type": "stream",
     "text": [
      "5.0\n"
     ]
    }
   ],
   "source": [
    "# 利用定义计算长度\n",
    "print(np.sum(a ** 2) ** 0.5)"
   ]
  },
  {
   "cell_type": "markdown",
   "id": "6526376f",
   "metadata": {},
   "source": [
    "利用两个向量的内积和长度可以求出两个向量夹角的余弦值。  \n",
    "$[x,y]=||x||*||y||*cos\\theta$"
   ]
  },
  {
   "cell_type": "markdown",
   "id": "7335bae8",
   "metadata": {},
   "source": [
    "示例：  \n",
    "a = $(1,\\sqrt3)$  \n",
    "b = (1,0)  \n",
    "夹角余弦可知为 0.5"
   ]
  },
  {
   "cell_type": "code",
   "execution_count": 52,
   "id": "113a3b50",
   "metadata": {},
   "outputs": [
    {
     "name": "stdout",
     "output_type": "stream",
     "text": [
      "[[0.5]]\n"
     ]
    }
   ],
   "source": [
    "a = np.array([[1, 3 ** 0.5]])\n",
    "b = np.array([[1,0]])\n",
    "c = np.dot(a, b.T) / (np.linalg.norm(a) * np.linalg.norm(b))\n",
    "print(c)"
   ]
  },
  {
   "cell_type": "markdown",
   "id": "943708bc",
   "metadata": {},
   "source": [
    "### 向量的正交"
   ]
  },
  {
   "cell_type": "markdown",
   "id": "f6cab680",
   "metadata": {},
   "source": [
    "当 [x,y]=0，即向量 $\\mathrm{x}$ 和向量 $\\mathrm{y}$ 的内积为 0，称向量 $\\mathrm{x}$ 和 $\\mathrm{y}$ 正交。  \n",
    "正交可以理解为向量相互垂直。若 x=0，则 x 与任何向量都正交。"
   ]
  },
  {
   "cell_type": "code",
   "execution_count": 53,
   "id": "3c743c12",
   "metadata": {},
   "outputs": [
    {
     "name": "stdout",
     "output_type": "stream",
     "text": [
      "a 和 b 正交\n"
     ]
    }
   ],
   "source": [
    "a = np.array([[1],[1],[1]])\n",
    "b = np.array([[2],[-4],[2]])\n",
    "\n",
    "if np.sum(a * b) == 0:\n",
    "    print('a 和 b 正交')"
   ]
  },
  {
   "cell_type": "markdown",
   "id": "0898fa23",
   "metadata": {},
   "source": [
    "### 标准正交基"
   ]
  },
  {
   "cell_type": "markdown",
   "id": "ae680ab9",
   "metadata": {},
   "source": [
    "定义：  \n",
    "设 $\\mathrm{V}$ 为向量空间，设 $\\mathrm{V}$ 中有 r 个向量 $\\alpha_1,\\alpha_2,...,\\alpha_r$ 线性无关，而且 $\\mathrm{V}$ 中任一向量都可由这 r 个向量表示，则称这 r 个向量构成的向量组 $\\alpha_1,\\alpha_2,...,\\alpha_r$ 为向量空间 $\\mathrm{V}$ 的基。这些向量的个数 r 称为向量空间 $\\mathrm{V}$ 的维数，称 $\\mathrm{V}$ 为 r 维向量空间。  \n",
    "一个向量空间有很多个基，但是应用比较多的是标准正交基。  \n",
    "若 $\\alpha_1,\\alpha_2,...,\\alpha_r$ 是向量空间 $\\mathrm{V}$ 中的基，$\\alpha_1,\\alpha_2,...,\\alpha_r$ 均是单位向量，而且两两正交，则称 $alpha_1,\\alpha2,...,\\alpha_r$ 是 $\\mathrm{V}$ 的标准正交基。  \n",
    "标准正交基一定线性无关，且向量年年垂直。"
   ]
  },
  {
   "cell_type": "markdown",
   "id": "d83d6e1c",
   "metadata": {},
   "source": [
    "如 \n",
    "$\\mathrm{e_1}=\n",
    "\\left[\n",
    "\\begin{matrix}\n",
    "1 \\\\\n",
    "0 \\\\\n",
    "0 \\\\\n",
    "0\n",
    "\\end{matrix}\n",
    "\\right]\n",
    ", \\mathrm{e_2}=\n",
    "\\left[\n",
    "\\begin{matrix}\n",
    "0 \\\\\n",
    "1 \\\\\n",
    "0 \\\\\n",
    "0\n",
    "\\end{matrix}\n",
    "\\right]\n",
    ", \\mathrm{e_3}=\n",
    "\\left[\n",
    "\\begin{matrix}\n",
    "0 \\\\\n",
    "0 \\\\\n",
    "1 \\\\\n",
    "0\n",
    "\\end{matrix}\n",
    "\\right]\n",
    ", \\mathrm{e_4}=\n",
    "\\left[\n",
    "\\begin{matrix}\n",
    "0 \\\\\n",
    "0 \\\\\n",
    "0 \\\\\n",
    "1\n",
    "\\end{matrix}\n",
    "\\right]\n",
    "$\n",
    "是四维空间 $\\mathrm{R^4}$ 的一个标准正交基。"
   ]
  },
  {
   "cell_type": "markdown",
   "id": "847e2c57",
   "metadata": {},
   "source": [
    "定义：  \n",
    "若 n 阶方阵 $\\mathrm{A}$ 满足 $\\mathrm{A^TA=E}$ 或 $\\mathrm{AA^T=E}$，则称 $\\mathrm{A}$ 为正交矩阵，简称正交阵。  \n",
    "如果是在复数范围内满足上式，则称 $\\mathrm{A}$ 为酉（you）矩阵。酉矩阵常用于奇异值分解（SVD）中，正交矩阵是实数特殊化的酉矩阵。"
   ]
  },
  {
   "cell_type": "markdown",
   "id": "48cfd0e2",
   "metadata": {},
   "source": [
    "示例：  \n",
    "验证方阵 \n",
    "$\\mathrm{A}=\n",
    "\\left[\n",
    "\\begin{matrix}\n",
    "0 & 1 & 0 \\\\\n",
    "\\frac{1}{\\sqrt2} & 0 & \\frac{1}{\\sqrt2} \\\\\n",
    "-\\frac{1}{\\sqrt2} & 0 & \\frac{1}{\\sqrt2}\n",
    "\\end{matrix}\n",
    "\\right]$\n",
    "为一个正交矩阵。"
   ]
  },
  {
   "cell_type": "code",
   "execution_count": 54,
   "id": "5ecaee89",
   "metadata": {},
   "outputs": [
    {
     "data": {
      "text/plain": [
       "array([[1., 0., 0.],\n",
       "       [0., 1., 0.],\n",
       "       [0., 0., 1.]])"
      ]
     },
     "execution_count": 54,
     "metadata": {},
     "output_type": "execute_result"
    }
   ],
   "source": [
    "a = np.array([[0,1,0],[1/2**0.5,0,1/2**0.5],[-1/2**0.5,0,1/2**0.5]])\n",
    "np.round(a.dot(a.T))  # 内积计算四舍五入"
   ]
  },
  {
   "cell_type": "markdown",
   "id": "46a535f7",
   "metadata": {},
   "source": [
    "性质：  \n",
    "若 $\\mathrm{A}$ 是正交矩阵，则 $\\mathrm{A^{-1}}$ 和 $\\mathrm{A^T}$ 也是正交矩阵；若 $\\mathrm{A}$ 和 $\\mathrm{B}$ 是正交矩阵，则 $\\mathrm{AB}$ 也是正交矩阵。"
   ]
  },
  {
   "cell_type": "markdown",
   "id": "72c4248a",
   "metadata": {},
   "source": [
    "## 线性代数的实际应用"
   ]
  },
  {
   "cell_type": "markdown",
   "id": "6db7e943",
   "metadata": {},
   "source": [
    "### 一 将某线性系统用下面的线性方程组表示，求未知量 x、y、z 的值。\n",
    "\n",
    "$\\left\\{\n",
    "\\begin{array}{lr}\n",
    "x+2y+z=7 \\\\\n",
    "2x-y+3z=7 \\\\\n",
    "3x+y+2z=18\n",
    "\\end{array}\n",
    "\\right.$"
   ]
  },
  {
   "cell_type": "markdown",
   "id": "25f5f76b",
   "metadata": {},
   "source": [
    "求出系数矩阵的增广矩阵的秩"
   ]
  },
  {
   "cell_type": "code",
   "execution_count": 55,
   "id": "5480ce54",
   "metadata": {},
   "outputs": [
    {
     "name": "stdout",
     "output_type": "stream",
     "text": [
      "系数矩阵 A 的秩: 3\n",
      "增广矩阵 AB 的秩: 3\n"
     ]
    }
   ],
   "source": [
    "# 系数矩阵\n",
    "A = np.array([[1,2,1],[2,-1,3],[3,1,2]])\n",
    "B = np.array([[7],[7],[18]])\n",
    "# 增广矩阵\n",
    "AB = np.hstack((A,B))\n",
    "\n",
    "print('系数矩阵 A 的秩: %d' %(np.linalg.matrix_rank(A)))\n",
    "print('增广矩阵 AB 的秩: %d' %(np.linalg.matrix_rank(AB)))"
   ]
  },
  {
   "cell_type": "markdown",
   "id": "9d5b3a04",
   "metadata": {},
   "source": [
    "R(A)=R(A,B)=3，有唯一解。"
   ]
  },
  {
   "cell_type": "markdown",
   "id": "1ec56fe8",
   "metadata": {},
   "source": [
    " 方法一：  \n",
    " $$AX=B$$\n",
    " $$\\Rightarrow A^{-1}AX=A^{-1}B$$\n",
    " $$\\Rightarrow X=A^{-1}B$$"
   ]
  },
  {
   "cell_type": "code",
   "execution_count": 56,
   "id": "286243c5",
   "metadata": {},
   "outputs": [
    {
     "name": "stdout",
     "output_type": "stream",
     "text": [
      "解得：\n",
      "[[ 7.]\n",
      " [ 1.]\n",
      " [-2.]]\n"
     ]
    }
   ],
   "source": [
    "A_I = np.linalg.inv(A)\n",
    "X = A_I.dot(B)\n",
    "print('解得：\\n{}'.format(X))"
   ]
  },
  {
   "cell_type": "markdown",
   "id": "4d302d1e",
   "metadata": {},
   "source": [
    "方法二："
   ]
  },
  {
   "cell_type": "code",
   "execution_count": 57,
   "id": "bb5ee543",
   "metadata": {
    "scrolled": true
   },
   "outputs": [
    {
     "name": "stdout",
     "output_type": "stream",
     "text": [
      "解得：\n",
      "[[ 7.]\n",
      " [ 1.]\n",
      " [-2.]]\n"
     ]
    }
   ],
   "source": [
    "X = np.linalg.solve(A, B)  # A 需要为非奇异矩阵\n",
    "print('解得：\\n{}'.format(X))"
   ]
  },
  {
   "cell_type": "markdown",
   "id": "78aafbe6",
   "metadata": {},
   "source": [
    "方法三："
   ]
  },
  {
   "cell_type": "code",
   "execution_count": 58,
   "id": "0c05ec3a",
   "metadata": {},
   "outputs": [
    {
     "name": "stdout",
     "output_type": "stream",
     "text": [
      "{x: 7, y: 1, z: -2}\n"
     ]
    }
   ],
   "source": [
    "x, y, z = sp.symbols('x y z')\n",
    "result = sp.solve([x+2*y+z-7,2*x-y+3*z-7,3*x+y+2*z-18], [x,y,z])  # 化为 = 0 的式子\n",
    "print(result)"
   ]
  }
 ],
 "metadata": {
  "kernelspec": {
   "display_name": "Python 3 (ipykernel)",
   "language": "python",
   "name": "python3"
  },
  "language_info": {
   "codemirror_mode": {
    "name": "ipython",
    "version": 3
   },
   "file_extension": ".py",
   "mimetype": "text/x-python",
   "name": "python",
   "nbconvert_exporter": "python",
   "pygments_lexer": "ipython3",
   "version": "3.8.11"
  }
 },
 "nbformat": 4,
 "nbformat_minor": 5
}
